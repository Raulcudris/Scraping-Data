{
 "cells": [
  {
   "cell_type": "code",
   "execution_count": 1,
   "metadata": {},
   "outputs": [],
   "source": [
    "import requests\n",
    "import re"
   ]
  },
  {
   "cell_type": "markdown",
   "metadata": {},
   "source": [
    "Muchos servidores web, al recibir múltiples peticiones en un corto tiempo de una misma IP, la bloquean para evitar saturaciones y problemas de servicio. Esto puede ser un problema para los scrapers ya que generan justamente este comportamiento.<br>\n",
    "Para evitar ser detectados tendríamos que cambiar nuestra dirección IP pública antes de cada request, cosa que sería extremadamente lento y en muchos casos imposible, o podemos utilizar un **proxy**. Un proxy es un intermediario entre quien hace la petición (nuestro programa) y quien la recibe (el servidor) que nos permite enmascarar la IP de donde salió la request. Utilizando un proxy, el servidor web verá la IP de ese proxy y no la nuestra. Si bien no podemos elegir con qué dirección IP hacer la petición, sí podemos elegir a través de qué proxy hacerla.<br>\n",
    "El sitio www.cualesmiip.com te permite ver cuál es la IP saliente de tu red. Si estás en una LAN, seguramente tu IP local sea algo como 192.18.x.x, pero la IP con la que salís al mundo, la IP de tu router asignada por tu ISP, será diferente.<br>"
   ]
  },
  {
   "cell_type": "markdown",
   "metadata": {},
   "source": [
    "Armemos una función que averigue la IP que ve este sitio:"
   ]
  },
  {
   "cell_type": "code",
   "execution_count": 2,
   "metadata": {
    "scrolled": true
   },
   "outputs": [],
   "source": [
    "def get_my_ip(url='http://www.cualesmiip.com/', proxies=None):\n",
    "    \n",
    "###########################\n",
    "# DESPUES ESTO\n",
    "###########################    \n",
    "    if proxies:\n",
    "        if url.startswith('https'):\n",
    "            if 'https' in proxies.keys():\n",
    "                print('Utilizando proxy', proxies['https'])\n",
    "            else:\n",
    "                print('No hay proxy https configurado')\n",
    "        elif url.startswith('http:'):\n",
    "            if 'http' in proxies.keys():\n",
    "                print('Utilizando proxy', proxies['http'])\n",
    "            else:\n",
    "                print('No hay proxy http configurado')            \n",
    "        else:\n",
    "            print('URL incorrecta')\n",
    "            return None\n",
    "    else:\n",
    "        print('No hay proxy configurado')\n",
    "###########################\n",
    "# PRIMERO ESTO\n",
    "###########################\n",
    "\n",
    "    # Hacemos la request al sitio\n",
    "    try:\n",
    "        resp = requests.get(url, proxies=proxies)\n",
    "    except Exception as e:\n",
    "        print('Error haciendo la request.', e)\n",
    "        return None\n",
    "\n",
    "    # Verificamos el status_code\n",
    "    if resp.status_code != 200:\n",
    "        print('Error de status. Status code:', resp.status_code)\n",
    "    \n",
    "    # Compilamos la expresión regular con el patrón para la IP\n",
    "    regex = re.compile(r'(\\d{1,3}\\.\\d{1,3}\\.\\d{1,3}\\.\\d{1,3})')\n",
    "    # Extraemos los strings que matcheen el patrón\n",
    "    my_ip = regex.findall(resp.text)\n",
    "    # y devolvemos el primero de ellos si es que lo hay\n",
    "    return my_ip[0] if my_ip is not None else None"
   ]
  },
  {
   "cell_type": "code",
   "execution_count": 3,
   "metadata": {},
   "outputs": [
    {
     "name": "stdout",
     "output_type": "stream",
     "text": [
      "No hay proxy configurado\n"
     ]
    },
    {
     "data": {
      "text/plain": [
       "'181.47.77.129'"
      ]
     },
     "execution_count": 3,
     "metadata": {},
     "output_type": "execute_result"
    }
   ],
   "source": [
    "get_my_ip()"
   ]
  },
  {
   "cell_type": "markdown",
   "metadata": {},
   "source": [
    "Esta es la IP que ve el sitio.<br>\n",
    "Ahora utilicemos un PROXY para hacer la request. Debemos crear un diccionario e indicar la IP del proxy para cada protocolo. Podemos obtener una lista de proxies del sitio https://free-proxy-list.net/ o https://hidemy.name/es/proxy-list/"
   ]
  },
  {
   "cell_type": "code",
   "execution_count": 4,
   "metadata": {},
   "outputs": [],
   "source": [
    "# Actualizar ip del proxy\n",
    "proxy_dict = {'http':'http://23.237.23.73:3128',\n",
    "              'https':'https://23.237.23.73:3128'}"
   ]
  },
  {
   "cell_type": "markdown",
   "metadata": {},
   "source": [
    "Modifiquemos la función para que utilice e indique el proxy que está utilizando"
   ]
  },
  {
   "cell_type": "code",
   "execution_count": 5,
   "metadata": {
    "scrolled": true
   },
   "outputs": [
    {
     "name": "stdout",
     "output_type": "stream",
     "text": [
      "Utilizando proxy https://23.237.23.73:3128\n",
      "Error haciendo la request. HTTPSConnectionPool(host='www.cualesmiip.com', port=443): Max retries exceeded with url: / (Caused by ProxyError('Cannot connect to proxy.', NewConnectionError('<urllib3.connection.VerifiedHTTPSConnection object at 0x7fb3dba1b5f8>: Failed to establish a new connection: [Errno 110] Connection timed out',)))\n"
     ]
    }
   ],
   "source": [
    "get_my_ip(url='https://www.cualesmiip.com/', proxies=proxy_dict)"
   ]
  },
  {
   "cell_type": "markdown",
   "metadata": {},
   "source": [
    "Vemos que la IP que reconoce el sitio cambió y coincide con la IP del proxy que estamos usando."
   ]
  },
  {
   "cell_type": "markdown",
   "metadata": {},
   "source": [
    "Otro tipo de proxy que podemos utilizar es SOCKS. El proxy HTTP solamente funciona para ese protocolo, mientras que el proxy SOCKS funciona a más bajo nivel (TCP) y lo podemos utilizar para cualquier tipo de tráfico ya sean páginas web, programas, torrents, etc."
   ]
  },
  {
   "cell_type": "code",
   "execution_count": 8,
   "metadata": {},
   "outputs": [],
   "source": [
    "# Actualizar ip del proxy\n",
    "proxy_dict_socks = {'http':'socks4://138.97.116.171:50659',\n",
    "                    'https':'socks4://138.97.116.171:50659'}"
   ]
  },
  {
   "cell_type": "code",
   "execution_count": 9,
   "metadata": {},
   "outputs": [
    {
     "name": "stdout",
     "output_type": "stream",
     "text": [
      "Utilizando proxy socks4://138.97.116.171:50659\n"
     ]
    },
    {
     "data": {
      "text/plain": [
       "'138.97.116.190'"
      ]
     },
     "execution_count": 9,
     "metadata": {},
     "output_type": "execute_result"
    }
   ],
   "source": [
    "get_my_ip(proxies=proxy_dict_socks)"
   ]
  },
  {
   "cell_type": "code",
   "execution_count": null,
   "metadata": {},
   "outputs": [],
   "source": []
  }
 ],
 "metadata": {
  "kernelspec": {
   "display_name": "platzi",
   "language": "python",
   "name": "platzi"
  },
  "language_info": {
   "codemirror_mode": {
    "name": "ipython",
    "version": 3
   },
   "file_extension": ".py",
   "mimetype": "text/x-python",
   "name": "python",
   "nbconvert_exporter": "python",
   "pygments_lexer": "ipython3",
   "version": "3.6.8"
  }
 },
 "nbformat": 4,
 "nbformat_minor": 2
}
