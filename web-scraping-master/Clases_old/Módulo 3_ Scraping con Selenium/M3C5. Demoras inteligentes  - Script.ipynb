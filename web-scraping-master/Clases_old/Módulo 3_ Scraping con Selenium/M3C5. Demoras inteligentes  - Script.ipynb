{
 "cells": [
  {
   "cell_type": "markdown",
   "metadata": {},
   "source": [
    "# Módulo 2: Scraping con Selenium\n",
    "## LATAM Airlines\n",
    "<a href=\"https://www.latam.com/es_ar/\"><img src=\"https://i.pinimg.com/originals/dd/52/74/dd5274702d1382d696caeb6e0f6980c5.png\"  width=\"420\"></img></a>\n",
    "<br>\n",
    "\n",
    "Vamos a scrapear el sitio de Latam para averiguar datos de vuelos en funcion el origen y destino, fecha y cabina. La información que esperamos obtener de cada vuelo es:\n",
    "- Precio(s) disponibles\n",
    "- Horas de salida y llegada (duración)\n",
    "- Información de las escalas\n",
    "\n",
    "¡Empecemos!"
   ]
  },
  {
   "cell_type": "code",
   "execution_count": null,
   "metadata": {},
   "outputs": [],
   "source": [
    "url = 'https://www.latam.com/es_ar/apps/personas/booking?fecha1_dia=20&fecha1_anomes=2019-12&auAvailability=1&ida_vuelta=ida&vuelos_origen=Buenos%20Aires&from_city1=BUE&vuelos_destino=Madrid&to_city1=MAD&flex=1&vuelos_fecha_salida_ddmmaaaa=20/12/2019&cabina=Y&nadults=1&nchildren=0&ninfants=0&cod_promo='"
   ]
  },
  {
   "cell_type": "code",
   "execution_count": null,
   "metadata": {},
   "outputs": [],
   "source": [
    "from selenium import webdriver"
   ]
  },
  {
   "cell_type": "code",
   "execution_count": null,
   "metadata": {},
   "outputs": [],
   "source": [
    "options = webdriver.ChromeOptions()\n",
    "options.add_argument('--incognito')\n",
    "driver = webdriver.Chrome(executable_path='../../chromedriver', options=options)\n",
    "driver.get(url)"
   ]
  },
  {
   "cell_type": "code",
   "execution_count": null,
   "metadata": {},
   "outputs": [],
   "source": [
    "#Usaremos el Xpath para obtener la lista de vuelos\n",
    "vuelos = driver.find_elements_by_xpath('//li[@class=\"flight\"]')"
   ]
  },
  {
   "cell_type": "code",
   "execution_count": null,
   "metadata": {},
   "outputs": [],
   "source": [
    "vuelo = vuelos[0]"
   ]
  },
  {
   "cell_type": "markdown",
   "metadata": {},
   "source": [
    "Obtenemos la información de la hora de salida, llegada y duración del vuelo"
   ]
  },
  {
   "cell_type": "code",
   "execution_count": null,
   "metadata": {},
   "outputs": [],
   "source": [
    "# Hora de salida\n",
    "vuelo.find_element_by_xpath('.//div[@class=\"departure\"]/time').get_attribute('datetime')"
   ]
  },
  {
   "cell_type": "code",
   "execution_count": null,
   "metadata": {},
   "outputs": [],
   "source": [
    "# Hora de llegada\n",
    "vuelo.find_element_by_xpath('.//div[@class=\"arrival\"]/time').get_attribute('datetime')"
   ]
  },
  {
   "cell_type": "code",
   "execution_count": null,
   "metadata": {},
   "outputs": [],
   "source": [
    "# Duración del vuelo\n",
    "vuelo.find_element_by_xpath('.//span[@class=\"duration\"]/time').get_attribute('datetime')"
   ]
  },
  {
   "cell_type": "code",
   "execution_count": null,
   "metadata": {},
   "outputs": [],
   "source": [
    "boton_escalas = vuelo.find_element_by_xpath('.//div[@class=\"flight-summary-stops-description\"]/button')\n",
    "boton_escalas"
   ]
  },
  {
   "cell_type": "code",
   "execution_count": null,
   "metadata": {},
   "outputs": [],
   "source": [
    "boton_escalas.click()"
   ]
  },
  {
   "cell_type": "code",
   "execution_count": null,
   "metadata": {},
   "outputs": [],
   "source": [
    "segmentos = vuelo.find_elements_by_xpath('//div[@class=\"segments-graph\"]/div[@class=\"segments-graph-segment\"]')\n",
    "segmentos"
   ]
  },
  {
   "cell_type": "code",
   "execution_count": null,
   "metadata": {},
   "outputs": [],
   "source": [
    "escalas = len(segmentos) - 1 #0 escalas si es un vuelo directo"
   ]
  },
  {
   "cell_type": "code",
   "execution_count": null,
   "metadata": {},
   "outputs": [],
   "source": [
    "segmento = segmentos[0]"
   ]
  },
  {
   "cell_type": "code",
   "execution_count": null,
   "metadata": {},
   "outputs": [],
   "source": [
    "# Origen\n",
    "segmento.find_element_by_xpath('.//div[@class=\"departure\"]/span[@class=\"ground-point-name\"]').text"
   ]
  },
  {
   "cell_type": "code",
   "execution_count": null,
   "metadata": {},
   "outputs": [],
   "source": [
    "# Hora de salida\n",
    "segmento.find_element_by_xpath('.//div[@class=\"departure\"]/time').get_attribute('datetime')"
   ]
  },
  {
   "cell_type": "code",
   "execution_count": null,
   "metadata": {},
   "outputs": [],
   "source": [
    "# Destino\n",
    "segmento.find_element_by_xpath('.//div[@class=\"arrival\"]/span[@class=\"ground-point-name\"]').text"
   ]
  },
  {
   "cell_type": "code",
   "execution_count": null,
   "metadata": {},
   "outputs": [],
   "source": [
    "# Hora de llegada\n",
    "segmento.find_element_by_xpath('.//div[@class=\"arrival\"]/time').get_attribute('datetime')"
   ]
  },
  {
   "cell_type": "code",
   "execution_count": null,
   "metadata": {},
   "outputs": [],
   "source": [
    "# Duración del vuelo\n",
    "segmento.find_element_by_xpath('.//span[@class=\"duration flight-schedule-duration\"]/time').get_attribute('datetime')"
   ]
  },
  {
   "cell_type": "code",
   "execution_count": null,
   "metadata": {},
   "outputs": [],
   "source": [
    "# Numero del vuelo\n",
    "segmento.find_element_by_xpath('.//span[@class=\"equipment-airline-number\"]').text"
   ]
  },
  {
   "cell_type": "code",
   "execution_count": null,
   "metadata": {},
   "outputs": [],
   "source": [
    "# Modelo de avion\n",
    "segmento.find_element_by_xpath('.//span[@class=\"equipment-airline-material\"]').text"
   ]
  },
  {
   "cell_type": "code",
   "execution_count": null,
   "metadata": {},
   "outputs": [],
   "source": [
    "# Duracion de la escala\n",
    "segmento.find_element_by_xpath('.//div[@class=\"stop connection\"]//p[@class=\"stop-wait-time\"]//time').get_attribute('datetime')"
   ]
  },
  {
   "cell_type": "code",
   "execution_count": null,
   "metadata": {},
   "outputs": [],
   "source": [
    "vuelo.find_element_by_xpath('//div[@class=\"modal-dialog\"]//button[@class=\"close\"]').click()"
   ]
  },
  {
   "cell_type": "code",
   "execution_count": null,
   "metadata": {},
   "outputs": [],
   "source": [
    "vuelo.click()"
   ]
  },
  {
   "cell_type": "code",
   "execution_count": null,
   "metadata": {},
   "outputs": [],
   "source": [
    "tarifas = vuelo.find_elements_by_xpath('.//div[@class=\"fares-table-container\"]//tfoot//td[contains(@class, \"fare-\")]')"
   ]
  },
  {
   "cell_type": "code",
   "execution_count": null,
   "metadata": {
    "scrolled": true
   },
   "outputs": [],
   "source": [
    "precios = []\n",
    "for tarifa in tarifas:\n",
    "    nombre = tarifa.find_element_by_xpath('.//label').get_attribute('for')\n",
    "    moneda = tarifa.find_element_by_xpath('.//span[@class=\"price\"]/span[@class=\"currency-symbol\"]').text\n",
    "    valor = tarifa.find_element_by_xpath('.//span[@class=\"price\"]/span[@class=\"value\"]').text \n",
    "    dict_tarifa={nombre:{'moneda':moneda, 'valor':valor}}\n",
    "    precios.append(dict_tarifa)\n",
    "    print(dict_tarifa)"
   ]
  },
  {
   "cell_type": "code",
   "execution_count": null,
   "metadata": {},
   "outputs": [],
   "source": [
    "def obtener_tiempos(vuelo):\n",
    "    # Hora de salida\n",
    "    salida = vuelo.find_element_by_xpath('.//div[@class=\"departure\"]/time').get_attribute('datetime')\n",
    "    # Hora de llegada\n",
    "    llegada = vuelo.find_element_by_xpath('.//div[@class=\"arrival\"]/time').get_attribute('datetime')\n",
    "    # Duracion\n",
    "    duracion = vuelo.find_element_by_xpath('.//span[@class=\"duration\"]/time').get_attribute('datetime')\n",
    "    return {'hora_salida': salida, 'hora_llegada': llegada, 'duracion': duracion}"
   ]
  },
  {
   "cell_type": "code",
   "execution_count": null,
   "metadata": {},
   "outputs": [],
   "source": [
    "def obtener_precios(vuelo):\n",
    "    tarifas = vuelo.find_elements_by_xpath(\n",
    "        './/div[@class=\"fares-table-container\"]//tfoot//td[contains(@class, \"fare-\")]')\n",
    "    precios = []\n",
    "    for tarifa in tarifas:\n",
    "        nombre = tarifa.find_element_by_xpath('.//label').get_attribute('for')\n",
    "        moneda = tarifa.find_element_by_xpath('.//span[@class=\"price\"]/span[@class=\"currency-symbol\"]').text\n",
    "        valor = tarifa.find_element_by_xpath('.//span[@class=\"price\"]/span[@class=\"value\"]').text \n",
    "        dict_tarifa={nombre:{'moneda':moneda, 'valor':valor}}\n",
    "        precios.append(dict_tarifa)\n",
    "    return precios"
   ]
  },
  {
   "cell_type": "code",
   "execution_count": null,
   "metadata": {},
   "outputs": [],
   "source": [
    "def obtener_datos_escalas(vuelo):\n",
    "    segmentos = vuelo.find_elements_by_xpath('//div[@class=\"segments-graph\"]/div[@class=\"segments-graph-segment\"]')\n",
    "    info_escalas = []\n",
    "    for segmento in segmentos:\n",
    "        # Origen\n",
    "        origen = segmento.find_element_by_xpath(\n",
    "            './/div[@class=\"departure\"]/span[@class=\"ground-point-name\"]').text\n",
    "        # Hora de salida\n",
    "        dep_time = segmento.find_element_by_xpath(\n",
    "            './/div[@class=\"departure\"]/time').get_attribute('datetime')\n",
    "        # Destino\n",
    "        destino = segmento.find_element_by_xpath(\n",
    "            './/div[@class=\"arrival\"]/span[@class=\"ground-point-name\"]').text\n",
    "        # Hora de llegada\n",
    "        arr_time = segmento.find_element_by_xpath(\n",
    "            './/div[@class=\"arrival\"]/time').get_attribute('datetime')\n",
    "        # Duración del vuelo\n",
    "        duracion_vuelo = segmento.find_element_by_xpath(\n",
    "            './/span[@class=\"duration flight-schedule-duration\"]/time').get_attribute('datetime')\n",
    "        # Numero del vuelo\n",
    "        numero_vuelo = segmento.find_element_by_xpath(\n",
    "            './/span[@class=\"equipment-airline-number\"]').text\n",
    "        # Modelo de avion\n",
    "        modelo_avion = segmento.find_element_by_xpath(\n",
    "            './/span[@class=\"equipment-airline-material\"]').text\n",
    "        # Duracion de la escala\n",
    "        if segmento != segmentos[-1]:\n",
    "            duracion_escala = segmento.find_element_by_xpath(\n",
    "                './/div[@class=\"stop connection\"]//p[@class=\"stop-wait-time\"]//time').get_attribute('datetime')\n",
    "        else:\n",
    "            duracion_escala = ''\n",
    "\n",
    "        # Armo un diccionario para almacenar los datos\n",
    "        data_dict={'origen': origen, \n",
    "                    'dep_time': dep_time, \n",
    "                    'destino': destino,\n",
    "                    'arr_time': arr_time,\n",
    "                    'duracion_vuelo': duracion_vuelo,\n",
    "                    'numero_vuelo': numero_vuelo,\n",
    "                    'modelo_avion': modelo_avion,\n",
    "                    'duracion_escala': duracion_escala}\n",
    "        info_escalas.append(data_dict)\n",
    "        \n",
    "    return info_escalas"
   ]
  },
  {
   "cell_type": "markdown",
   "metadata": {},
   "source": [
    "## Clase 5\n",
    "Ya tenemos el scraper casi listo. Unifiquemos las 3 funciones de la clase anterior en una sola"
   ]
  },
  {
   "cell_type": "code",
   "execution_count": null,
   "metadata": {},
   "outputs": [],
   "source": [
    "def obtener_info(driver):\n",
    "    vuelos = driver.find_elements_by_xpath('//li[@class=\"flight\"]')\n",
    "    print(f'Se encontraron {len(vuelos)} vuelos.')\n",
    "    print('Iniciando scraping...')\n",
    "    info = []\n",
    "    for vuelo in vuelos:\n",
    "        # Obtenemos los tiempos generales del vuelo\n",
    "        tiempos = obtener_tiempos(vuelo)\n",
    "        # Clickeamos el botón de escalas para ver los detalles\n",
    "        vuelo.find_element_by_xpath('.//div[@class=\"flight-summary-stops-description\"]/button').click()\n",
    "        escalas = obtener_datos_escalas(vuelo)\n",
    "        # Cerramos el pop-up con los detalles\n",
    "        vuelo.find_element_by_xpath('//div[@class=\"modal-dialog\"]//button[@class=\"close\"]').click()\n",
    "        # Clickeamos el vuelo para ver los precios\n",
    "        vuelo.click()\n",
    "        precios = obtener_precios(vuelo)\n",
    "        # Cerramos los precios del vuelo\n",
    "        vuelo.click()\n",
    "        info.append({'precios':precios, 'tiempos':tiempos , 'escalas': escalas})\n",
    "    return info"
   ]
  },
  {
   "cell_type": "markdown",
   "metadata": {},
   "source": [
    "Ahora podemos cargar la página con el driver y pasárselo a esta función"
   ]
  },
  {
   "cell_type": "code",
   "execution_count": null,
   "metadata": {
    "scrolled": true
   },
   "outputs": [],
   "source": [
    "driver = webdriver.Chrome(executable_path='../../chromedriver', options=options)\n",
    "driver.get(url)\n",
    "obtener_info(driver)"
   ]
  },
  {
   "cell_type": "markdown",
   "metadata": {},
   "source": [
    "Se encontraron 0 vuelos porque la página no terminó de cargar"
   ]
  },
  {
   "cell_type": "markdown",
   "metadata": {},
   "source": [
    "Lo más simple que podemos hacer es agregar una demora fija lo suficientemente grande para asegurarnos que la página terminó de cargar."
   ]
  },
  {
   "cell_type": "code",
   "execution_count": null,
   "metadata": {},
   "outputs": [],
   "source": [
    "import time"
   ]
  },
  {
   "cell_type": "code",
   "execution_count": null,
   "metadata": {},
   "outputs": [],
   "source": [
    "options = webdriver.ChromeOptions()\n",
    "options.add_argument('--incognito')\n",
    "driver = webdriver.Chrome(executable_path='../../chromedriver', options=options)\n",
    "driver.get(url)"
   ]
  },
  {
   "cell_type": "code",
   "execution_count": null,
   "metadata": {},
   "outputs": [],
   "source": [
    "time.sleep(10)"
   ]
  },
  {
   "cell_type": "code",
   "execution_count": null,
   "metadata": {
    "scrolled": true
   },
   "outputs": [],
   "source": [
    "vuelos = driver.find_elements_by_xpath('//li[@class=\"flight\"]')\n",
    "vuelos"
   ]
  },
  {
   "cell_type": "code",
   "execution_count": null,
   "metadata": {},
   "outputs": [],
   "source": [
    "driver.close()"
   ]
  },
  {
   "cell_type": "markdown",
   "metadata": {},
   "source": [
    "Esto funciona pero no es muy eficiente. Lo mejor sería esperar a que la página termine de cargar y luego recuperar los elementos."
   ]
  },
  {
   "cell_type": "code",
   "execution_count": null,
   "metadata": {},
   "outputs": [],
   "source": [
    "from selenium.webdriver.support.ui import WebDriverWait\n",
    "from selenium.webdriver.support import expected_conditions as EC\n",
    "from selenium.webdriver.common.by import By\n",
    "from selenium.common.exceptions import TimeoutException"
   ]
  },
  {
   "cell_type": "code",
   "execution_count": null,
   "metadata": {
    "scrolled": true
   },
   "outputs": [],
   "source": [
    "options = webdriver.ChromeOptions()\n",
    "options.add_argument('--incognito')\n",
    "driver = webdriver.Chrome(executable_path='../../chromedriver', options=options)\n",
    "driver.get(url)\n",
    "delay = 10\n",
    "try:\n",
    "    vuelo = WebDriverWait(driver, delay).until(EC.presence_of_element_located((By.XPATH, '//li[@class=\"flight\"]')))\n",
    "    print(\"La página terminó de cargar\")\n",
    "    info_vuelos = obtener_info(driver)\n",
    "except TimeoutException:\n",
    "    print(\"La página tardó demasiado en cargar\")\n",
    "driver.close()"
   ]
  },
  {
   "cell_type": "code",
   "execution_count": null,
   "metadata": {
    "scrolled": true
   },
   "outputs": [],
   "source": [
    "info_vuelos"
   ]
  }
 ],
 "metadata": {
  "kernelspec": {
   "display_name": "Python 3",
   "language": "python",
   "name": "python3"
  },
  "language_info": {
   "codemirror_mode": {
    "name": "ipython",
    "version": 3
   },
   "file_extension": ".py",
   "mimetype": "text/x-python",
   "name": "python",
   "nbconvert_exporter": "python",
   "pygments_lexer": "ipython3",
   "version": "3.6.8"
  }
 },
 "nbformat": 4,
 "nbformat_minor": 2
}
