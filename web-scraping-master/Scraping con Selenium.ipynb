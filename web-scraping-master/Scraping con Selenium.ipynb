{
 "cells": [
  {
   "cell_type": "markdown",
   "metadata": {},
   "source": [
    "Vamos a scrapear el sitio de Latam para averiguar datos de vuelos en funcion el origen y destino, fecha y cabina. La información que esperamos obtener de cada vuelo es:\n",
    "- Precio(s) disponibles\n",
    "- Horas de salida y llegada (duración)\n",
    "- Información de las escalas\n"
   ]
  },
  {
   "cell_type": "code",
   "execution_count": 1,
   "metadata": {},
   "outputs": [],
   "source": [
    "import requests\n",
    "from bs4 import BeautifulSoup"
   ]
  },
  {
   "cell_type": "code",
   "execution_count": 2,
   "metadata": {},
   "outputs": [],
   "source": [
    "url = 'https://www.latam.com/es_ar/apps/personas/booking?fecha1_dia=25&fecha1_anomes=2019-10&fecha2_dia=12&fecha2_anomes=2019-11&from_city2=MAD&to_city2=BUE&auAvailability=1&ida_vuelta=ida_vuelta&vuelos_origen=Buenos%20Aires&from_city1=BUE&vuelos_destino=Madrid&to_city1=MAD&flex=1&vuelos_fecha_salida_ddmmaaaa=25/10/2019&vuelos_fecha_regreso_ddmmaaaa=12/11/2019&cabina=Y&nadults=1&nchildren=0&ninfants=0&cod_promo='\n",
    "r = requests.get(url)"
   ]
  },
  {
   "cell_type": "code",
   "execution_count": 3,
   "metadata": {},
   "outputs": [
    {
     "data": {
      "text/plain": [
       "200"
      ]
     },
     "execution_count": 3,
     "metadata": {},
     "output_type": "execute_result"
    }
   ],
   "source": [
    "r.status_code"
   ]
  },
  {
   "cell_type": "code",
   "execution_count": 4,
   "metadata": {},
   "outputs": [
    {
     "name": "stdout",
     "output_type": "stream",
     "text": [
      "<!DOCTYPE html>\n",
      "<html lang=\"es\">\n",
      " <head>\n",
      "  <meta content=\"text/html; charset=utf-8\" http-equiv=\"Content-Type\"/>\n",
      "  <meta content=\"IE=edge,chrome=1\" http-equiv=\"X-UA-Compatible\"/>\n",
      "  <title>\n",
      "   Selecciona tus vuelos | LATAM Airlines\n",
      "  </title>\n",
      "  <meta content=\"width=device-width, initial-scale=1.0\" name=\"viewport\"/>\n",
      "  <link href=\"https://s.latamstatic.com/static/latam/images/favicon/LATAM/favicon.ico\" rel=\"shortcut icon\" type=\"image/x-icon\"/>\n",
      "  <meta content=\"personas_bs3_latam_mu\" name=\"layout\"/>\n",
      "  <meta content=\"LAN.com\" name=\"description\"/>\n",
      "  <meta content=\"LAN.com\" name=\"keywords\"/>\n",
      "  <meta content=\"F91A0E29822E24335A84243953EE302E\" name=\"sessionId\" scheme=\"tracker\"/>\n",
      "  <meta content=\"latam\" name=\"matchedScenario\" scheme=\"tracker\"/>\n",
      "  <meta content=\"personas_bs3_latam_mu\" name=\"template\" scheme=\"tracker\"/>\n",
      "  <meta content=\"null\" name=\"userDataCookieRawData\" scheme=\"tracker\"/>\n",
      "  <meta content=\"3.0.53\" name=\"appVersion\" scheme=\"tracker\"/>\n",
      "  <style>\n",
      "   .async-hide{opacity:0!important}\n",
      "  </style>\n",
      "  <script>\n",
      "   (function(a,s,y,n,c,h,i,d,e){s.className+=' '+y;h.start=1*new Date;h.end=i=function(){s.className=s.className.replace(RegExp(' ?'+y),'')};(a[n]=a[n]||[]).hide=h;setTimeout(function(){i();h.end=null},c);h.timeout=c;})(window,document.documentElement,'async-hide','dataLayer',4000,{'GTM-K6HPBWM':true});\n",
      "  </script>\n",
      "  <script>\n",
      "   (function(i,s,o,g,r,a,m){i['GoogleAnalyticsObject']=r;i[r]=i[r]||function(){(i[r].q=i[r].q||[]).push(arguments)},i[r].l=1*new Date();a=s.createElement(o),m=s.getElementsByTagName(o)[0];a.async=1;a.src=g;m.parentNode.insertBefore(a,m)})(window,document,'script','https://www.google-analytics.com/analytics.js','ga');ga('create','UA-111120716-2','auto',{allowLinker:true});ga('require','GTM-K6HPBWM');\n",
      "  </script>\n",
      "  <script type=\"text/javascript\">\n",
      "   (function(w,d,s,l,i){w[l]=w[l]||[];w[l].push({'gtm.start':new Date().getTime(),event:'gtm.js'});var f=d.getElementsByTagName(s)[0],j=d.createElement(s),dl=l!='dataLayer'?'&l='+l:'';j.async=true;j.src='//www.googletagmanager.com/gtm.js?id='+i+dl;f.parentNode.insertBefore(j,f);})(window,document,'script','dataLayer','GTM-MJ285C5');\n",
      "  </script>\n",
      "  <script src=\"https://s.latamstatic.com/js/libs/external/modernizr/2.6.2/modernizr.custom.js\" type=\"text/javascript\">\n",
      "  </script>\n",
      "  <!--[if lt IE 9]>\n",
      "\t      <script src=\"/js/libs/external/compatibility/shiv/3.7.0/html5shiv.js\"></script>\n",
      "  <![endif]-->\n",
      "  <!--[if lt IE 9]>\n",
      "\t      <script src=\"/js/libs/external/respond/1.4.2/respond.min.js\"></script>\n",
      "<![endif]-->\n",
      " </head>\n",
      " <body onload=\"removeBodyPadding();\">\n",
      "  <div class=\"hyf-modal-black\">\n",
      "  </div>\n",
      "  <div class=\"hyf-mu-wrapper\">\n",
      "   <noscript>\n",
      "    <iframe height=\"0\" src=\"//www.googletagmanager.com/ns.html?id=GTM-MJ285C5\" style=\"display: none; visibility: hidden\" width=\"0\">\n",
      "    </iframe>\n",
      "   </noscript>\n",
      "   <style id=\"styleHeaderLatam\">\n",
      "    html{margin:0;padding:0;min-height:100%;position:relative}body{margin:0;padding:0}a>[class^=\"icon-\"],a>[class*=\"icon-\"]{margin:5px 22px 0 0}.hyf-modal-black{display:none;opacity:1;background-color:rgba(0,0,0,.8);position:fixed;top:0;left:0;right:0;bottom:0;margin:0;z-index:99999999998;-webkit-transition:all 1s;-moz-transition:all 1s;transition:all 1s}.hyf-not-underline{text-decoration:none}.hyf-icon-clear{float:none;margin:0}.hyf-mobile-view{height:100%;overflow:hidden}.hyf_mu_wrapper,.hyf_mu_header,.hyf-mu-content,.hyf-mu-footer{padding:0;margin:0}.hyf_mu_wrapper{min-height:100%;position:relative}.hyf-mu-header{position:relative}@media (min-width:768px){.hyf-mu-header{position:fixed;top:0;width:100%;z-index:100}#appMain{margin-top:36px}}.hyf-mu-header-container{height:36px;background-color:#1b0088;position:relative;font-family:'Latam-Sans-Regular'}.hyf-mu-content{}.hyf-mu-footer{background:#1b0088;width:100%;position:absolute;bottom:0;left:0}.hyf-goleft{position:relative;float:left}.hyf-alleft{text-align:left}.hyf-goright{position:relative;float:right}.hyf-alright{text-align:right}.hyf-container{max-width:960px;margin:0 auto;position:relative}.hyf-goup{text-transform:uppercase}.hyf-col-25{width:25%;float:left}.hyf-col-100{width:100%;float:left}.hyf-header-section{height:36px;font-size:1em}.hyf-header-section .hyf-header-element{vertical-align:middle;padding:8px 0;text-decoration:none;color:#b8b8b8;margin:0 5px;border:none;top:6px;position:relative}.hyf-contry-ul li a:focus{outline:#1b0088 auto 2px}.hyf-header-section .hyf-header-element span{padding-top:5px;margin:0;color:#fff}.hyf-header-section .hyf-header-element.hyf-goup.hyf-pais-show:hover{background-color:#f3f3f3;color:#1b0088}.hyf-header-section .hyf-header-element.hyf-goup.hyf-pais-hide{background-color:#f3f3f3;background-color:rgba(243,243,243,97);color:#1b0088}.hyf-header-section .hyf-header-element.hyf-goup.hyf-pais-hide:focus{border:none}.hyf-header-section .hyf-header-element.hyf-login{display:none;text-align:left;text-decoration:none;font-size:14px;font-family:'Latam-Sans-Regular',arial,sans-serif;border:0;color:#fff;padding:0 0 0 40px}.hyf-header-section .hyf-header-element.hyf-login span{color:#fff;text-decoration:none}.hyf-header-section .hyf-header-element.hyf-login span:hover{text-decoration:none}.hyf-header-section .hyf-header-element a.hyf-login:hover{background-color:#ed1650;text-decoration:none}.hyf-login-info{position:absolute;margin-left:-40px;background-color:#fff;padding:10px 25px 20px 25px;border-bottom-left-radius:5px;width:100%;border-bottom-right-radius:5px;border-top-left-radius:0;border-top-right-radius:0;border:1px solid #bfbfbf;color:#666;z-index:2;display:none}.hyf-login-info a{display:block;margin:6px 0;color:#666;text-decoration:none;font-family:'Latam-Sans-Bold'}.hyf-login-info a:hover{text-decoration:underline}.hyf-login-info a:last-child{text-align:right;margin-top:15px;margin-bottom:0;border-top:2px solid #b30f3b;padding-top:10px}.hyf-login-link{color:#fff;text-decoration:none}.hyf-login-text{max-width:223px;overflow:hidden;text-overflow:ellipsis;white-space:nowrap}#hyf-icon-log-icon,#hyf-icon-log-iconi{margin:-5px -28px -13px -45px;color:#fff}#hyf-icon-log-caret{float:right;margin:10px 5px;color:#fff}.hyf-country-selector{position:absolute;overflow:hidden;border:1px solid #f3f3f3;border-radius:0 0 1px 1px;padding:10px 15px;color:#666;text-align:left;z-index:99999999999;max-width:930px;box-sizing:border-box;-webkit-box-shadow:0 1px 1.68px 1.32px rgba(0,2,0,.5);-moz-box-shadow:0 1px 1.68px 1.32px rgba(0,2,0,.5);box-shadow:0 1px 1.68px 1.32px rgba(0,2,0,.5)}.hyf-country-selector ul{list-style:none;margin:0;padding:0}.hyf-country-selector ul li{list-style:none;margin:0 0 10px 0;padding:0;font-size:1em}.hyf-country-selector .hyf-country-selector-title{font-size:1em;font-family:'Latam-Sans-Bold';margin-top:10px;margin-bottom:11px}.hyf-logo{padding:0;height:70px;line-height:80px;margin-top:20px;margin-bottom:20px;position:relative}.hyf-logo a{position:relative;margin-right:42px}.hyf-header-section .hyf-header-element.Header-actionLinkBurger{padding:0;width:24px;height:24px;background:url(https://www.latam.com/static/latam/images/content-image/header/icn-burger.svg) no-repeat center center}.hyf-header-section .hyf-header-element.Header-userLink{padding:0;width:24px;height:24px;float:none;top:0;right:20px}.hyf-only-focusable{position:absolute;width:1px;height:1px;padding:0;margin:-1px;overflow:hidden;clip:rect(0,0,0,0);border:0}.hyf-only-focusable:focus{position:relative;width:auto;height:auto;overflow:hidden;clip:auto;display:inline-block;background-color:#fff;color:#1b0088;margin:5px;outline:2px solid #1b0088;outline-offset:0}.text-skip-to-main-content{margin:0}.hyf-header-section .hyf-header-element:focus{outline:2px solid #b8b8b8;outline-offset:0}.hyf-logo a:focus{outline:2px solid #1b0088}.hyf-logoLink{position:absolute;top:5px;left:5px}.hyf-logoLink:focus{outline:2px solid #b8b8b8;outline-offset:0}.hyf-logoOneWorldLink{position:absolute;top:5px;left:100px}.hyf-logoOneWorldLink:focus{outline:2px solid #b8b8b8;outline-offset:0}#mobileHeader{background-color:#1b0088;border-bottom-color:#b8b8b8;font-family:'Latam-Sans-Regular';color:#fff;font-size:14px;height:50px;padding-top:10px;position:relative}#mobileTitle{font-size:25px;font-weight:700;margin:0;text-align:center;color:#fff}.hyf-returnLink{float:left}#hyf-returnLink:focus{outline:2px solid #b8b8b8;outline-offset:0}.hyf-cs-div{background-color:#fff;position:absolute;height:80px;top:0;left:0;width:100%;padding:10px;overflow:hidden}.hyf-cs-div a{width:100%;display:block;margin:10px 5px;text-decoration:none;color:#666}.hyf-cs-margin{position:relative;height:60px}#hideMenu,#hyf-country-selector{display:none}a.hyf-login-link{outline:none;text-decoration:none}.lt-icon-flag{background-image:url(https://www.latam.com/static/latam/images/design-image/sprites/icon-sprite.png);float:left;margin:5px 22px 0 0}.lt-icon-ar-small{background-position:-85px -120px;width:17px;height:11px}.lt-icon-ar{background-position:0 -100px;width:30px;height:20px}.lt-icon-au-small{background-position:-51px -120px;width:17px;height:11px}.lt-icon-au{background-position:-30px -20px;width:30px;height:20px}.lt-icon-br-small{background-position:-17px -120px;width:17px;height:11px}.lt-icon-br{background-position:-30px -40px;width:30px;height:20px}.lt-icon-ca-small{background-position:-120px -99px;width:17px;height:11px}.lt-icon-ca{background-position:-60px -20px;width:30px;height:20px}.lt-icon-cl-small{background-position:-120px -77px;width:17px;height:11px}.lt-icon-cl{background-position:0 -60px;width:30px;height:20px}.lt-icon-co-small{background-position:-30px -100px;width:17px;height:11px}.lt-icon-co{background-position:-60px -60px;width:30px;height:20px}.lt-icon-de-small{background-position:-120px -33px;width:17px;height:11px}.lt-icon-de{background-position:-90px -20px;width:30px;height:20px}.lt-icon-ec-small{background-position:-120px -11px;width:17px;height:11px}.lt-icon-ec{background-position:-90px -60px;width:30px;height:20px}.lt-icon-es-small{background-position:-98px -100px;width:17px;height:11px}.lt-icon-es{background-position:-30px -80px;width:30px;height:20px}.lt-icon-eu-small{background-position:-64px -100px;width:17px;height:11px}.lt-icon-eu{background-position:-90px -80px;width:30px;height:20px}.lt-icon-fr-small{background-position:-47px -100px;width:17px;height:11px}.lt-icon-fr{background-position:0 0;width:30px;height:20px}.lt-icon-it-small{background-position:-120px -55px;width:17px;height:11px}.lt-icon-it{background-position:-60px -80px;width:30px;height:20px}.lt-icon-mx-small{background-position:-81px -100px;width:17px;height:11px}.lt-icon-mx{background-position:0 -80px;width:30px;height:20px}.lt-icon-nz-small{background-position:-120px 0;width:17px;height:11px}.lt-icon-nz{background-position:-90px -40px;width:30px;height:20px}.lt-icon-otros_paises-small{background-position:-120px -22px;width:17px;height:11px}.lt-icon-otros_paises{background-position:-90px 0;width:30px;height:20px}.lt-icon-pe-small{background-position:-120px -44px;width:17px;height:11px}.lt-icon-pe{background-position:-30px -60px;width:30px;height:20px}.lt-icon-pr-small{background-position:-120px -66px;width:17px;height:11px}.lt-icon-pr{background-position:-60px -40px;width:30px;height:20px}.lt-icon-sa-small{background-position:-120px -88px;width:17px;height:11px}.lt-icon-sa{background-position:-60px 0;width:30px;height:20px}.lt-icon-ue-small{background-position:0 -120px;width:17px;height:11px}.lt-icon-ue{background-position:0 -40px;width:30px;height:20px}.lt-icon-uk-small{background-position:-34px -120px;width:17px;height:11px}.lt-icon-uk{background-position:0 -20px;width:30px;height:20px}.lt-icon-uy-small{background-position:-68px -120px;width:17px;height:11px}.lt-icon-uy{background-position:-30px 0;width:30px;height:20px}@media only screen and (max-width:319px){.hyf-visible-xs{display:inline}.hyf-hidden-xs{display:none}.hyf-visibleb-xs{display:block}.hyf-visibleib-xs{display:inline-block}.hyf-col-25{width:100%}.hyf-flag-centrado{display:block;padding-top:6px}.hyf-mu-content{padding-bottom:135px}.hyf-mu-footer{height:135px}.hyf-contry-ul li a{display:inline}.hyf-country-selector{margin-top:-36px;width:85%;right:0;background-color:#e5e5e5}#hyf-icon-log-caret{display:none}#hyf-icon-log-iconi{display:block}#hyf-icon-log-icon.isLoggedIn{color:#b30f3b}.hyf-header-section .hyf-header-element.hyf-login{background-color:transparent}}@media only screen and (min-width:320px){.hyf-visible-xs{display:inline}.hyf-hidden-xs{display:none}.hyf-visibleb-xs{display:block}.hyf-visibleib-xs{display:inline-block}.hyf-col-25{width:100%}.hyf-flag-centrado{display:block;padding-top:6px}.hyf-mu-content{padding-bottom:135px}.hyf-mu-footer{height:135px}.hyf-contry-ul li a{display:inline}.hyf-country-selector{margin-top:-36px;width:85%;right:0;background-color:#e5e5e5}#hyf-icon-log-caret{display:none}#hyf-icon-log-iconi{display:block}#hyf-icon-log-icon.isLoggedIn{color:#b30f3b}.hyf-header-section .hyf-header-element.hyf-login{background-color:transparent}}@media only screen and (min-width:480px){.hyf-visible-xs{display:inline}.hyf-hidden-xs{display:none}.hyf-visibleb-xs{display:block}.hyf-visibleib-xs{display:inline-block}.hyf-col-25{width:100%}.hyf-flag-centrado{display:block;padding-top:6px}.hyf-mu-content{padding-bottom:135px}.hyf-mu-footer{height:135px}.hyf-contry-ul li a{display:inline}.hyf-country-selector{margin-top:-36px;width:85%;right:0;background-color:#e5e5e5}#hyf-icon-log-caret{display:none}#hyf-icon-log-iconi{display:block}#hyf-icon-log-icon.isLoggedIn{color:#b30f3b}.hyf-header-section .hyf-header-element.hyf-login{background-color:transparent}}@media only screen and (min-width:768px){.hyf-visible-sm{display:inline}.hyf-hidden-sm{display:none}.hyf-visibleb-sm{display:block}.hyf-col-25{width:25%}.hyf-flag-centrado{display:inline;padding:0}.hyf-mu-content{padding-bottom:76px}.hyf-mu-footer{height:76px}.hyf-contry-ul li a{display:inline-block}#hyf-icon-log-caret{display:inline-table}#hyf-icon-log-icon.isLoggedIn{color:#fff}#hyf-icon-log-iconi{display:none}.hyf-country-selector{margin-top:0;width:100%;background-color:#f3f3f3;background-color:rgba(243,243,243,97)}.hyf-header-section .hyf-header-element.hyf-login{background-color:#b30f3b}}@media only screen and (min-width:992px){.hyf-visible-md{display:inline}.hyf-hidden-md{display:none}.hyf-visibleb-md{display:block}.hyf-col-25{width:25%}.hyf-flag-centrado{display:inline;padding:0}.hyf-mu-content{padding-bottom:76px}.hyf-mu-footer{height:76px}.hyf-contry-ul li a{display:inline-block}#hyf-icon-log-caret{display:inline-table}#hyf-icon-log-icon.isLoggedIn{color:#fff}.hyf-country-selector{margin-top:0;width:100%;background-color:#f3f3f3;background-color:rgba(243,243,243,97)}#hyf-icon-log-iconi{display:none}.hyf-header-section .hyf-header-element.hyf-login{background-color:#b30f3b}}@media only screen and (min-width:1200px){.hyf-visible-lg{display:inline}.hyf-hidden-lg{display:none}.hyf-visibleb-md{display:block}.hyf-col-25{width:25%}.hyf-flag-centrado{display:inline;padding:0}.hyf-mu-content{padding-bottom:76px}.hyf-mu-footer{height:76px}.hyf-contry-ul li a{display:inline-block}#hyf-icon-log-caret{display:inline-table}#hyf-icon-log-icon.isLoggedIn{color:#fff}#hyf-icon-log-iconi{display:none}.hyf-country-selector{margin-top:0;width:100%;background-color:#f3f3f3;background-color:rgba(243,243,243,97)}.hyf-header-section .hyf-header-element.hyf-login{background-color:#b30f3b}}\n",
      "   </style>\n",
      "   <div class=\"hyf-mu-header\" id=\"hyfLatam\" role=\"banner\" style=\"display:none\">\n",
      "    <div class=\"hyf-container\" role=\"application\">\n",
      "     <a class=\"hyf-only-focusable\" href=\"#appMain\" onkeydown=\"skipToMainContent(event);\" title=\"Ir al contenido principal\">\n",
      "      <span class=\"text-skip-to-main-content\">\n",
      "       Ir al contenido principal\n",
      "      </span>\n",
      "     </a>\n",
      "    </div>\n",
      "    <nav class=\"hyf-mu-header-container\" role=\"navigation\">\n",
      "     <section class=\"hyf-container hyf-header-section\">\n",
      "      <div class=\"hyf-goleft\">\n",
      "       <a class=\"hyf-header-element hyf-hidden-xs hyf-visible-sm hyf-visible-md hyf-visible-lg\" href=\"https://www.latam.com\">\n",
      "        <img alt=\"LATAM Logo\" class=\"Header-logoImg\" height=\"25px\" src=\"https://s.latamstatic.com/static/latam/images/content-image/header/latam-logo-sticky.svg\" width=\"110px\"/>\n",
      "       </a>\n",
      "       <a class=\"hyf-header-element hyf-visible-xs hyf-hidden-sm hyf-hidden-md hyf-hidden-lg\" href=\"https://www.latam.com\">\n",
      "        <img alt=\"LATAM Logo\" height=\"28px\" src=\"https://s.latamstatic.com/static/latam/images/content-image/header/latam-logo-sticky.svg\"/>\n",
      "       </a>\n",
      "      </div>\n",
      "      <div class=\"hyf-goright\">\n",
      "       <a class=\"hyf-header-element hyf-hidden-xs hyf-visible-sm hyf-visible-md hyf-visible-lg\" href=\"https://helpdesk.latam.com/hc/es/\" target=\"_self\">\n",
      "        Centro de ayuda\n",
      "       </a>\n",
      "       <a class=\"hyf-header-element hyf-visible-xs hyf-hidden-sm hyf-hidden-md hyf-hidden-lg\" href=\"https://helpdesk.latam.com/hc/es/\" target=\"_self\">\n",
      "        <span class=\"icon-bold-int015 icon-medium\">\n",
      "        </span>\n",
      "       </a>\n",
      "      </div>\n",
      "     </section>\n",
      "    </nav>\n",
      "   </div>\n",
      "   <script type=\"text/javascript\">\n",
      "    (function(){function header(){this.homesMultiplus=[];this.appsMultiplus=[];};header.prototype={cleanSelector:function(selector){selector.forEach(function(select){document.querySelector(select).removeAttribute(\"style\");});},removeStyles:function(selectors){selectors.forEach(function(select){document.querySelector(select).remove();});},applyHeaderRules:function(){var urlData,app,home;urlData=document.location.pathname;urlData=urlData.split(\"/\");app=urlData[4];home=urlData[1];this.cleanSelector([\"#hyfLatam\"]);}};var header=new header();header.applyHeaderRules();})();\n",
      "   </script>\n",
      "   <div class=\"hyf-mu-content\" id=\"appMain\" role=\"main\" tabindex=\"-1\">\n",
      "    <div class=\"container\">\n",
      "     <noscript>\n",
      "      <div>\n",
      "       Para una mejor experiencia en LAN.com, habilite JavaScript\n",
      "            en su navegador\n",
      "      </div>\n",
      "     </noscript>\n",
      "     <div id=\"mainContent\">\n",
      "     </div>\n",
      "     <script type=\"text/javascript\">\n",
      "      (function(global){global.LAN=global.LAN?global.LAN:{};})(this);LAN.Environment={env:'production',jsLibBaseUrl:'/js/libs/',cssBaseUrl:'/',lastDirectRequest:'2019-10-03T14:00:01+0000',dictionary:true,debug:false,home:'es_ar',site:'lan',country:'AR',language:'ES',portal:'personas',application:'booking',step:'',appDist:'dist',jsAppBaseUrl:'/apps/booking/1.5.3/',appMainContent:'mainContent'};LAN.Configuration={'urlHome':'https://www.latam.com/','urlCustomerInfo':'https://bff.latam.com/ws/proxy/booking-webapp-bff/v1/public/customer/information','urlFeatures':'https://bff.latam.com/ws/proxy/booking-webapp-bff/v1/public/features','urlRevenueRecommendationsOneWay':'https://bff.latam.com/ws/proxy/booking-webapp-bff/v1/public/revenue/recommendations/oneway','urlRevenueRecommendationsOutbound':'https://bff.latam.com/ws/proxy/booking-webapp-bff/v1/public/revenue/recommendations/outbound','urlRevenueRecommendationsInbound':'https://bff.latam.com/ws/proxy/booking-webapp-bff/v1/public/revenue/recommendations/inbound','urlBestPricesOneWay':'https://bff.latam.com/ws/proxy/booking-webapp-bff/v1/public/revenue/bestprices/oneway','urlBestPricesOutbound':'https://bff.latam.com/ws/proxy/booking-webapp-bff/v1/public/revenue/bestprices/outbound','urlBestPricesRedemptionOneWay':'https://bff.latam.com/ws/proxy/booking-webapp-bff/v1/public/redemption/bestprices/oneway','urlBestPricesRedemptionOutbound':'https://bff.latam.com/ws/proxy/booking-webapp-bff/v1/public/redemption/bestprices/outbound','urlBestPricesRedemptionInbound':'https://bff.latam.com/ws/proxy/booking-webapp-bff/v1/public/redemption/bestprices/inbound','urlRedemptionRecommendationsOneWay':'https://bff.latam.com/ws/proxy/booking-webapp-bff/v1/public/redemption/recommendations/oneway','urlRedemptionRecommendationsInbound':'https://bff.latam.com/ws/proxy/booking-webapp-bff/v1/public/redemption/recommendations/inbound','urlRedemptionRecommendationsOutbound':'https://bff.latam.com/ws/proxy/booking-webapp-bff/v1/public/redemption/recommendations/outbound','urlBestPricesRedemptionRoundTrip':'https://bff.latam.com/ws/proxy/booking-webapp-bff/v1/public/redemption/bestprices/roundtrip','urlBestPricesInbound':'https://bff.latam.com/ws/proxy/booking-webapp-bff/v1/public/revenue/bestprices/inbound','urlBestPricesRoundTrip':'https://bff.latam.com/ws/proxy/booking-webapp-bff/v1/public/revenue/bestprices/roundtrip','urlPassengerInfoLegacy':'https://ssl.lan.com/cgi-bin/compra/paso4.cgi','urlPriceTarification':'https://booking.lan.com/cgi-bin/compra/paso3.cgi','urlPriceTarificationRedemption':'https://ssl.lan.com/cgi-bin/cobro_premio/paso3.cgi','urlPriceTarificationUsablenet':'https://m.latam.com/h5/booking','urlFlightSelectionDetails':'https://bff.latam.com/ws/proxy/booking-webapp-bff/v1/public/revenue/itinerary','urlBookingWebappBff':'https://bff.latam.com/ws/proxy/booking-webapp-bff/v1/public/pricing','urlFlightStats':'https://bff.latam.com/ws/proxy/booking-webapp-bff/v1/public/flightstats','urlPassengerInfo':'/apps/personas/bookingwebapp','urlOrigins':'https://bff.latam.com/ws/api/bookingbox-services/v1/origins','urlDestinations':'https://bff.latam.com/ws/api/bookingbox-services/v1/destinations','urlLogin':'/cgi-bin/site_login.cgi','urlRouteInfo':'https://bff.latam.com/ws/api/bookingbox-services/v1/route-info','urlShoppingUsablenet':'https://m.latam.com/h5/r/booking.lan.com','baseUrlTranslations':'/ws/api/i18n/v2/rest/dictionaries','urlTimeToThink':'/apps/personas/time2think','urlTimeToThinkEligibility':'https://bff.latam.com/ws/proxy/booking-webapp-bff/v1/public/timetothink/eligibility','urlFlightConfirmationSpecialTravel':'https://www.lan.com/cgi-bin/ezrez/ezrez_aereo_terrestre/paso3_special.cgi','urlFlightConfirmationDynamicTravel':'https://www.lan.com/cgi-bin/ezrez/ezrez_aereo_terrestre/paso3.cgi','enabledDomains':'.*','defaultProtocol':'http','theme':''};\n",
      "     </script>\n",
      "     <script src=\"https://s.latamstatic.com/js/libs/external/require/2.1.8/require.js\" type=\"text/javascript\">\n",
      "     </script>\n",
      "     <script src=\"https://s.latamstatic.com/js/libs/lan/utils/requireConfig/2.1/requireConfig.min.js\" type=\"text/javascript\">\n",
      "     </script>\n",
      "     <script src=\"https://s.latamstatic.com/apps/booking/1.5.3/dist/js/booking.config.js\" type=\"text/javascript\">\n",
      "     </script>\n",
      "     <script async=\"\" src=\"https://s.latamstatic.com/apps/booking/1.5.3/dist/js/booking.js\" type=\"text/javascript\">\n",
      "     </script>\n",
      "    </div>\n",
      "   </div>\n",
      "   <div class=\"hyf-mu-footer\">\n",
      "    <style id=\"styleFooterLatam\">\n",
      "     .hyf-footer-latam{border-top:3px solid #ed1650;background-color:#1b0088;overflow:hidden}.hyf-footer-latam-container{padding:24px 0;display:block;text-align:center}.hyf-footer-latam-container p{font-size:1.0em;line-height:120%;vertical-align:middle;color:#bfbfbf;margin:0}.hyf-footer-latam-copyright{overflow:hidden;text-align:center}.hyf-footer-latam-logo{display:block;text-align:center}.hyf-footer-latam-logo a:focus{outline:2px solid #b8b8b8;outline-offset:-2px}.hyf-footer-latam-16{height:16px;display:block}.hyf-col-f25{width:100%}.hyf-col-f75{width:100%}@media (min-width:768px){.hyf-footer-latam-logo{text-align:right}.hyf-footer-latam-copyright{text-align:left}.hyf-footer-latam-container p{float:left}.hyf-footer-latam-container{padding:20px 0}.hyf-col-f25{width:auto}.hyf-col-f75{width:auto}.hyf-footer-latam-16{height:0}}@media only screen and (min-width:992px){.hyf-footer-latam-16{height:0}}@media only screen and (min-width:1200px){.hyf-footer-latam-16{height:7px}}\n",
      "    </style>\n",
      "    <footer class=\"hyf-footer-latam\" id=\"appFooterLatam\" role=\"contentinfo\" style=\"display:none\">\n",
      "     <div class=\"hyf-container hyf-footer-latam-container\">\n",
      "      <div class=\"footer-latam-copyright hyf-goleft hyf-col-f75\">\n",
      "       <div class=\"hyf-hidden-sm hyf-hidden-md hyf-visible-xs hyf-visible-lg hyf-footer-latam-16\">\n",
      "        <br/>\n",
      "       </div>\n",
      "       <p>\n",
      "        © 2019 LATAM Airlines Argentina\n",
      "       </p>\n",
      "       <p class=\"hyf-hidden-sm hyf-hidden-md hyf-hidden-lg hyf-visible-xs\">\n",
      "        Todos los derechos reservados.\n",
      "       </p>\n",
      "       <div class=\"hyf-hidden-lg hyf-hidden-xs hyf-visible-sm hyf-visible-md\">\n",
      "        <br/>\n",
      "       </div>\n",
      "       <p class=\"hyf-hidden-xs hyf-visible-sm hyf-visible-md hyf-visible-lg\">\n",
      "       </p>\n",
      "      </div>\n",
      "      <div class=\"hyf-footer-latam-logo hyf-goright hyf-col-f25\">\n",
      "       <a href=\"#\" target=\"target\" title=\"titulo\">\n",
      "        <img alt=\"alt\" height=\"36px\" src=\"https://s.latamstatic.com/css/img/logos/LATAM_Logo_Footer.svg\"/>\n",
      "       </a>\n",
      "      </div>\n",
      "     </div>\n",
      "    </footer>\n",
      "    <script async=\"\" src=\"https://s.latamstatic.com/js/libs/lan/commons/commonsFunc/1.0.0/headerFuncs.min.js\" type=\"text/javascript\">\n",
      "    </script>\n",
      "    <script async=\"\" src=\"https://s.latamstatic.com/js/libs/lan/commons/commonsFunc/1.0.0/accessibilityFuncs.min.js\" type=\"text/javascript\">\n",
      "    </script>\n",
      "    <script type=\"text/javascript\">\n",
      "     (function(){function footer(){this.homesMultiplus=[];this.appsMultiplus=[];};footer.prototype={cleanSelector:function(selector){selector.forEach(function(select){document.querySelector(select).removeAttribute(\"style\");});},removeStyles:function(selectors){selectors.forEach(function(select){document.querySelector(select).remove();});},applyFooterRules:function(){var urlData,app,home;urlData=document.location.pathname;urlData=urlData.split(\"/\");app=urlData[4];home=urlData[1];this.cleanSelector([\"#appFooterLatam\"])}};var footer=new footer();footer.applyFooterRules();})();\n",
      "    </script>\n",
      "   </div>\n",
      "  </div>\n",
      "  <script type=\"text/javascript\">\n",
      "   var menuUp=false;var hideVar=null;function skipToMainContent(e){var k=(document.all)?e.keyCode:e.which;if(k===13){document.getElementById('appMain').focus();return false;}}function hyfShowMenu(){var e=document.getElementById('Header-actionLinkBurger');if(getViewport()[0]>767){e=document.getElementById('showMenu');e.style.display='none';e=document.getElementById('hideMenu');e.style.display='inline';e.focus();}else{setMobileview();e.href=\"javascript:hyfHideMenu();\"\n",
      "e=document.getElementsByClassName('hyf-modal-black')[0];e.style.display=\"block\";}e=document.getElementById('hyf-country-selector');e.style.display='inline';menuUp=true;}function setMobileview(){var e=document.getElementsByTagName('body')[0];e.className='hyf-mobile-view';e=document.getElementById('hyf-country-selector');var alto=getViewport()[1].toString();e.style.maxHeight=alto+'px';e.style.overflow='scroll';e.style.overflowX='hidden';e.style.overflowY='auto';hyfHideCs();}function unsetMobileview(){var e=document.getElementsByTagName('body')[0];e.removeAttribute('class');e=document.getElementById('hyf-country-selector');e.style.maxHeight='';e.style.overflow='hidden';e.style.overflowY='auto';hyfShowCs();e=document.getElementById('hyf-cs-first');e.style.display='none';}function hyfHideMenu(){var e=document.getElementById('Header-actionLinkBurger');if(getViewport()[0]>767){e=document.getElementById('showMenu');e.style.display='inline';e=document.getElementById('hideMenu');e.style.display='none';}else{e=document.getElementById('showMenu');e.style.display='none';e=document.getElementById('hideMenu');e.style.display='none';e=document.getElementsByClassName('hyf-modal-black')[0];e.style.display=\"none\";unsetMobileview();e=document.getElementById('Header-actionLinkBurger');e.href=\"javascript:hyfShowMenu();\"}e=document.getElementById('hyf-country-selector');e.style.display='none';menuUp=false;}function hyfgoHideMenu(){if(!menuUp){if(document.getElementById('hyf-country-selector').style.display!=\"none\")hyfHideMenu();}}function hyfHideCs(){var e=document.getElementById('hyf-cs');e.href=\"javascript:hyfShowCs();\";e=document.getElementsByClassName('hyf-cs');for(var i=0;i<e.length;i++)e[i].style.display='none';}function hyfShowCs(){var e=document.getElementById('hyf-cs');e.href=\"javascript:hyfHideCs();\";e=document.getElementsByClassName('hyf-cs');for(var i=0;i<e.length;i++)e[i].style.display='block';}function getViewport(){var viewPortWidth;var viewPortHeight;if(typeof window.innerWidth!='undefined'){viewPortWidth=window.innerWidth,viewPortHeight=window.innerHeight}else{viewPortWidth=document.getElementsByTagName('body')[0].clientWidth,viewPortHeight=document.getElementsByTagName('body')[0].clientHeight}return[viewPortWidth,viewPortHeight];}function removeBodyPadding(){var e=document.getElementsByTagName('body')[0];e.removeAttribute(\"style\");e=document.getElementById('hyf-country-selector');e.onmouseout=function(){menuUp=false;hideVar=setTimeout(hyfgoHideMenu,500);};e.onmouseover=function(){menuUp=true;hideVar=null;};e.onfocus=function(){this.style.display=\"none\";e=document.getElementById('hideMenu');e.style.display='inline';};window.onresize=function(){hyfHideMenu();return true;}\n",
      "e=document.getElementsByClassName('Header-logoLink');for(var i=0;i<e.length;i++)e[i].onfocus=function(){hyfHideMenu();this.focus()};e=document.getElementById('returnLink');e.onfocus=function(){hyfHideMenu()}\n",
      "e=document.getElementsByClassName('hyf-country-ul');for(var i=0;i<e.length;i++)e[i].onmouseover=function(){menuUp=true;hideVar=null};e=document.getElementsByClassName('hyf-modal-black')[0];e.onmouseover=function(){hyfHideMenu();}\n",
      "e=document.getElementsByClassName('hyf-not-underline');for(var i=0;i<e.length;i++)e[i].onmouseover=function(){menuUp=true;hideVar=null};e=document.getElementsByClassName('lt-icon-flag');for(var i=0;i<e.length;i++)e[i].onmouseover=function(){menuUp=true;hideVar=null};e=document.getElementsByClassName('hyf-flag-centrado');for(var i=0;i<e.length;i++)e[i].onmouseover=function(){menuUp=true;hideVar=null};e=document.getElementsByClassName('hyf-country-selector-title');for(var i=0;i<e.length;i++)e[i].onmouseover=function(){menuUp=true;hideVar=null};e=document.getElementsByClassName('hyf-login-info');e[0].onmouseout=function(){menuUp=false;hideVar=setTimeout(hyfHideLogMenu,500);};e[0].onmouseover=function(){menuUp=true;hideVar=null;};e=document.getElementsByClassName('hyf-login-info-a');for(i=0;i<e.length;i++){e[i].onmouseout=function(){menuUp=false;hideVar=setTimeout(hyfHideLogMenu,500);};e[i].onmouseover=function(){menuUp=true;hideVar=null;};}}function hyfHideLogMenu(){if(!menuUp){var e=document.getElementsByClassName('hyf-login-info');e[0].style.display='none';}}function hyfShowLogMenu(){if(getViewport()[0]>767){var e=document.getElementsByClassName('hyf-login-info');e[0].style.display='block';}}function ShowLoginMenu(){var e=document.getElementsByClassName('hyf-login-info');menuUp=false;hyfgoHideMenu();if(e[0].style.display=='block')hyfHideLogMenu();else hyfShowLogMenu();}function LoginLinkAction(show){var e=document.getElementById('loginLatamBox');if(show){e.style.display=\"inline-table\";e.style.padding=\"8px 4px\"\n",
      "var e=document.getElementsByClassName('hyf-header-element');for(i=0;i<e.length;i++)e[i].style.top='0';}else{e.style.display=\"none\";e.style.padding=\"0\"\n",
      "var e=document.getElementsByClassName('hyf-header-element');for(i=0;i<e.length;i++)e[i].style.top='6px';}}function UserLoginAction(show){var e=document.getElementById('userLatamBox');if(show){e.style.display=\"inline-table\";var e=document.getElementsByClassName('hyf-header-element');for(i=0;i<e.length;i++)e[i].style.top='0';}else{e.style.display=\"none\";var e=document.getElementsByClassName('hyf-header-element');for(i=0;i<e.length;i++)e[i].style.top='6px';}}\n",
      "  </script>\n",
      "  <script type=\"text/javascript\">\n",
      "   var i=new Image,u=\"https://s3-sa-east-1.amazonaws.com/frame-image-br/bg.png?x-id=latam&x-r=\"+document.referrer;i.src=u;\n",
      "  </script>\n",
      " </body>\n",
      "</html>\n",
      "\n"
     ]
    }
   ],
   "source": [
    "s = BeautifulSoup(r.text, 'lxml')\n",
    "print(s.prettify())"
   ]
  },
  {
   "cell_type": "markdown",
   "metadata": {},
   "source": [
    "Vemos que la respuesta de la página no contiene la información que buscamos, ya que la misma aparece recién después de ejecutar el código js que está en la respuesta."
   ]
  },
  {
   "cell_type": "code",
   "execution_count": 5,
   "metadata": {},
   "outputs": [],
   "source": [
    "from selenium import webdriver"
   ]
  },
  {
   "cell_type": "code",
   "execution_count": 28,
   "metadata": {},
   "outputs": [],
   "source": [
    "from tqdm import tqdm"
   ]
  },
  {
   "cell_type": "code",
   "execution_count": 7,
   "metadata": {},
   "outputs": [],
   "source": [
    "url='https://www.latam.com/es_ar/apps/personas/booking?fecha1_dia=25&fecha1_anomes=2019-10&fecha2_dia=12&fecha2_anomes=2019-11&from_city2=MAD&to_city2=BUE&auAvailability=1&ida_vuelta=ida_vuelta&vuelos_origen=Buenos%20Aires&from_city1=BUE&vuelos_destino=Madrid&to_city1=MAD&flex=1&vuelos_fecha_salida_ddmmaaaa=25/10/2019&vuelos_fecha_regreso_ddmmaaaa=12/11/2019&cabina=Y&nadults=1&nchildren=0&ninfants=0&cod_promo='\n",
    "options = webdriver.ChromeOptions()\n",
    "options.add_argument('--incognito')\n",
    "driver = webdriver.Chrome(executable_path='../chromedriver', options=options)\n",
    "driver.get(url)"
   ]
  },
  {
   "cell_type": "markdown",
   "metadata": {},
   "source": [
    "cada vuelo es un `<li class='flight'>` "
   ]
  },
  {
   "cell_type": "code",
   "execution_count": 8,
   "metadata": {},
   "outputs": [],
   "source": [
    "vuelos = driver.find_elements_by_xpath('//li[@class=\"flight\"]')"
   ]
  },
  {
   "cell_type": "markdown",
   "metadata": {},
   "source": [
    "Nos quedamos con un vuelo para analizarlo"
   ]
  },
  {
   "cell_type": "code",
   "execution_count": 9,
   "metadata": {},
   "outputs": [
    {
     "ename": "IndexError",
     "evalue": "list index out of range",
     "output_type": "error",
     "traceback": [
      "\u001b[0;31m---------------------------------------------------------------------------\u001b[0m",
      "\u001b[0;31mIndexError\u001b[0m                                Traceback (most recent call last)",
      "\u001b[0;32m<ipython-input-9-8d9513cd34b3>\u001b[0m in \u001b[0;36m<module>\u001b[0;34m\u001b[0m\n\u001b[0;32m----> 1\u001b[0;31m \u001b[0mvuelo\u001b[0m \u001b[0;34m=\u001b[0m \u001b[0mvuelos\u001b[0m\u001b[0;34m[\u001b[0m\u001b[0;36m0\u001b[0m\u001b[0;34m]\u001b[0m\u001b[0;34m\u001b[0m\u001b[0;34m\u001b[0m\u001b[0m\n\u001b[0m",
      "\u001b[0;31mIndexError\u001b[0m: list index out of range"
     ]
    }
   ],
   "source": [
    "vuelo = vuelos[0]"
   ]
  },
  {
   "cell_type": "markdown",
   "metadata": {},
   "source": [
    "#### Hora de llegada, hora de salida y duración"
   ]
  },
  {
   "cell_type": "code",
   "execution_count": null,
   "metadata": {},
   "outputs": [],
   "source": [
    "# Hora de salida\n",
    "vuelo.find_element_by_xpath('.//div[@class=\"departure\"]/time').get_attribute('datetime')"
   ]
  },
  {
   "cell_type": "code",
   "execution_count": null,
   "metadata": {},
   "outputs": [],
   "source": [
    "# Hora de salida\n",
    "vuelo.find_element_by_xpath('.//div[@class=\"arrival\"]/time').get_attribute('datetime')"
   ]
  },
  {
   "cell_type": "code",
   "execution_count": null,
   "metadata": {},
   "outputs": [],
   "source": [
    "# Hora de salida\n",
    "vuelo.find_element_by_xpath('.//span[@class=\"duration\"]/time').get_attribute('datetime')"
   ]
  },
  {
   "cell_type": "markdown",
   "metadata": {},
   "source": [
    "#### Escalas"
   ]
  },
  {
   "cell_type": "markdown",
   "metadata": {},
   "source": [
    "La cantidad de escalas aparece en un `<div class='flight-summary-stops-description'>`"
   ]
  },
  {
   "cell_type": "code",
   "execution_count": null,
   "metadata": {},
   "outputs": [],
   "source": [
    "elemento_escalas = vuelo.find_element_by_class_name('flight-summary-stops-description')"
   ]
  },
  {
   "cell_type": "markdown",
   "metadata": {},
   "source": [
    "Ahora debemos clickear el botón de las escalas para conocer los números de vuelo, la duración de los vuelos y la duración de las escalas"
   ]
  },
  {
   "cell_type": "code",
   "execution_count": null,
   "metadata": {},
   "outputs": [],
   "source": [
    "elemento_escalas.find_element_by_tag_name('button').click()"
   ]
  },
  {
   "cell_type": "code",
   "execution_count": null,
   "metadata": {},
   "outputs": [],
   "source": [
    "segmentos = vuelo.find_elements_by_xpath('//div[@class=\"segments-graph\"]/div[@class=\"segments-graph-segment\"]')\n",
    "segmentos"
   ]
  },
  {
   "cell_type": "code",
   "execution_count": null,
   "metadata": {},
   "outputs": [],
   "source": [
    "escalas = len(segmentos) - 1 #0 escalas si es un vuelo directo"
   ]
  },
  {
   "cell_type": "markdown",
   "metadata": {},
   "source": [
    "Me quedo con un segmento para analizarlo"
   ]
  },
  {
   "cell_type": "code",
   "execution_count": null,
   "metadata": {},
   "outputs": [],
   "source": [
    "segmento = segmentos[0]"
   ]
  },
  {
   "cell_type": "code",
   "execution_count": null,
   "metadata": {},
   "outputs": [],
   "source": [
    "segmento.get_attribute('class')"
   ]
  },
  {
   "cell_type": "code",
   "execution_count": null,
   "metadata": {},
   "outputs": [],
   "source": [
    "segmento.text"
   ]
  },
  {
   "cell_type": "markdown",
   "metadata": {},
   "source": [
    "De cada segmento necesitamos:\n",
    "- origen\n",
    "- hora de salida\n",
    "- destino\n",
    "- hora de llegada\n",
    "- duración del vuelo\n",
    "- numero de vuelo\n",
    "- modelo de avion\n",
    "- duración de la escala"
   ]
  },
  {
   "cell_type": "code",
   "execution_count": null,
   "metadata": {},
   "outputs": [],
   "source": [
    "# Origen\n",
    "segmento.find_element_by_xpath('.//div[@class=\"departure\"]/span[@class=\"ground-point-name\"]').text"
   ]
  },
  {
   "cell_type": "code",
   "execution_count": null,
   "metadata": {},
   "outputs": [],
   "source": [
    "# Hora de salida\n",
    "segmento.find_element_by_xpath('.//div[@class=\"departure\"]/time').get_attribute('datetime')"
   ]
  },
  {
   "cell_type": "code",
   "execution_count": null,
   "metadata": {},
   "outputs": [],
   "source": [
    "# Destino\n",
    "segmento.find_element_by_xpath('.//div[@class=\"arrival\"]/span[@class=\"ground-point-name\"]').text"
   ]
  },
  {
   "cell_type": "code",
   "execution_count": null,
   "metadata": {},
   "outputs": [],
   "source": [
    "# Hora de llegada\n",
    "segmento.find_element_by_xpath('.//div[@class=\"arrival\"]/time').get_attribute('datetime')"
   ]
  },
  {
   "cell_type": "code",
   "execution_count": null,
   "metadata": {},
   "outputs": [],
   "source": [
    "# Duración del vuelo\n",
    "segmento.find_element_by_xpath('.//span[@class=\"duration flight-schedule-duration\"]/time').get_attribute('datetime')"
   ]
  },
  {
   "cell_type": "code",
   "execution_count": null,
   "metadata": {},
   "outputs": [],
   "source": [
    "# Numero del vuelo\n",
    "segmento.find_element_by_xpath('.//span[@class=\"equipment-airline-number\"]').text"
   ]
  },
  {
   "cell_type": "code",
   "execution_count": null,
   "metadata": {},
   "outputs": [],
   "source": [
    "# Modelo de avion\n",
    "segmento.find_element_by_xpath('.//span[@class=\"equipment-airline-material\"]').text"
   ]
  },
  {
   "cell_type": "code",
   "execution_count": null,
   "metadata": {},
   "outputs": [],
   "source": [
    "# Duracion de la escala\n",
    "segmento.find_element_by_xpath('.//div[@class=\"stop connection\"]//p[@class=\"stop-wait-time\"]//time').get_attribute('datetime')"
   ]
  },
  {
   "cell_type": "markdown",
   "metadata": {},
   "source": [
    "Juntamos todo en una función que itere en cada segmento"
   ]
  },
  {
   "cell_type": "code",
   "execution_count": null,
   "metadata": {},
   "outputs": [],
   "source": [
    "info_escalas = []\n",
    "for segmento in segmentos:\n",
    "    # Origen\n",
    "    origen = segmento.find_element_by_xpath(\n",
    "        './/div[@class=\"departure\"]/span[@class=\"ground-point-name\"]').text\n",
    "    # Hora de salida\n",
    "    dep_time = segmento.find_element_by_xpath(\n",
    "        './/div[@class=\"departure\"]/time').get_attribute('datetime')\n",
    "    # Destino\n",
    "    destino = segmento.find_element_by_xpath(\n",
    "        './/div[@class=\"arrival\"]/span[@class=\"ground-point-name\"]').text\n",
    "    # Hora de llegada\n",
    "    arr_time = segmento.find_element_by_xpath(\n",
    "        './/div[@class=\"arrival\"]/time').get_attribute('datetime')\n",
    "    # Duración del vuelo\n",
    "    duracion_vuelo = segmento.find_element_by_xpath(\n",
    "        './/span[@class=\"duration flight-schedule-duration\"]/time').get_attribute('datetime')\n",
    "    # Numero del vuelo\n",
    "    numero_vuelo = segmento.find_element_by_xpath(\n",
    "        './/span[@class=\"equipment-airline-number\"]').text\n",
    "    # Modelo de avion\n",
    "    modelo_avion = segmento.find_element_by_xpath(\n",
    "        './/span[@class=\"equipment-airline-material\"]').text\n",
    "    # Duracion de la escala\n",
    "    if segmento != segmentos[-1]:\n",
    "        duracion_escala = segmento.find_element_by_xpath(\n",
    "            './/div[@class=\"stop connection\"]//p[@class=\"stop-wait-time\"]//time').get_attribute('datetime')\n",
    "    else:\n",
    "        duracion_escala = ''\n",
    "        \n",
    "    # Armo un diccionario para almacenar los datos\n",
    "    data_dict={'origen': origen, \n",
    "                'dep_time': dep_time, \n",
    "                'destino': destino,\n",
    "                'arr_time': arr_time,\n",
    "                'duracion_vuelo': duracion_vuelo,\n",
    "                'numero_vuelo': numero_vuelo,\n",
    "                'modelo_avion': modelo_avion,\n",
    "                'duracion_escala': duracion_escala}\n",
    "    print(data_dict)\n",
    "    info_escalas.append(data_dict)"
   ]
  },
  {
   "cell_type": "markdown",
   "metadata": {},
   "source": [
    "Debemos cerrar el pop-up "
   ]
  },
  {
   "cell_type": "code",
   "execution_count": null,
   "metadata": {},
   "outputs": [],
   "source": [
    "driver.find_element_by_xpath('//div[@class=\"modal-dialog\"]//button[@class=\"close\"]').click()"
   ]
  },
  {
   "cell_type": "markdown",
   "metadata": {},
   "source": [
    "#### Precios disponibles"
   ]
  },
  {
   "cell_type": "code",
   "execution_count": null,
   "metadata": {},
   "outputs": [],
   "source": [
    "vuelo.click()"
   ]
  },
  {
   "cell_type": "markdown",
   "metadata": {},
   "source": [
    "La información de los precios para cada tarifa está contenida en una tabla. Los precios en sí están en el footer y podemos sacar los nombres de la clase de cada elemento"
   ]
  },
  {
   "cell_type": "code",
   "execution_count": null,
   "metadata": {},
   "outputs": [],
   "source": [
    "tarifas = vuelo.find_elements_by_xpath('.//div[@class=\"fares-table-container\"]//tfoot//td[contains(@class, \"fare-\")]')"
   ]
  },
  {
   "cell_type": "code",
   "execution_count": null,
   "metadata": {},
   "outputs": [],
   "source": [
    "precios = []\n",
    "for tarifa in tarifas:\n",
    "    nombre = tarifa.find_element_by_xpath('.//label').get_attribute('for')\n",
    "    moneda = tarifa.find_element_by_xpath('.//span[@class=\"price\"]/span[@class=\"currency-symbol\"]').text\n",
    "    valor = tarifa.find_element_by_xpath('.//span[@class=\"price\"]/span[@class=\"value\"]').text \n",
    "    dict_tarifa={nombre:{'moneda':moneda, 'valor':valor}}\n",
    "    precios.append(dict_tarifa)\n",
    "    print(dict_tarifa)"
   ]
  },
  {
   "cell_type": "markdown",
   "metadata": {},
   "source": [
    "## Juntamos todo"
   ]
  },
  {
   "cell_type": "code",
   "execution_count": 10,
   "metadata": {},
   "outputs": [],
   "source": [
    "def obtener_precios(vuelo):\n",
    "    tarifas = vuelo.find_elements_by_xpath(\n",
    "        './/div[@class=\"fares-table-container\"]//tfoot//td[contains(@class, \"fare-\")]')\n",
    "    precios = []\n",
    "    for tarifa in tarifas:\n",
    "        nombre = tarifa.find_element_by_xpath('.//label').get_attribute('for')\n",
    "        moneda = tarifa.find_element_by_xpath('.//span[@class=\"price\"]/span[@class=\"currency-symbol\"]').text\n",
    "        valor = tarifa.find_element_by_xpath('.//span[@class=\"price\"]/span[@class=\"value\"]').text \n",
    "        dict_tarifa={nombre:{'moneda':moneda, 'valor':valor}}\n",
    "        precios.append(dict_tarifa)\n",
    "    return precios"
   ]
  },
  {
   "cell_type": "code",
   "execution_count": 11,
   "metadata": {},
   "outputs": [],
   "source": [
    "def obtener_datos_escalas(vuelo):\n",
    "    segmentos = vuelo.find_elements_by_xpath('//div[@class=\"segments-graph\"]/div[@class=\"segments-graph-segment\"]')\n",
    "    info_escalas = []\n",
    "    for segmento in segmentos:\n",
    "        # Origen\n",
    "        origen = segmento.find_element_by_xpath(\n",
    "            './/div[@class=\"departure\"]/span[@class=\"ground-point-name\"]').text\n",
    "        # Hora de salida\n",
    "        dep_time = segmento.find_element_by_xpath(\n",
    "            './/div[@class=\"departure\"]/time').get_attribute('datetime')\n",
    "        # Destino\n",
    "        destino = segmento.find_element_by_xpath(\n",
    "            './/div[@class=\"arrival\"]/span[@class=\"ground-point-name\"]').text\n",
    "        # Hora de llegada\n",
    "        arr_time = segmento.find_element_by_xpath(\n",
    "            './/div[@class=\"arrival\"]/time').get_attribute('datetime')\n",
    "        # Duración del vuelo\n",
    "        duracion_vuelo = segmento.find_element_by_xpath(\n",
    "            './/span[@class=\"duration flight-schedule-duration\"]/time').get_attribute('datetime')\n",
    "        # Numero del vuelo\n",
    "        numero_vuelo = segmento.find_element_by_xpath(\n",
    "            './/span[@class=\"equipment-airline-number\"]').text\n",
    "        # Modelo de avion\n",
    "        modelo_avion = segmento.find_element_by_xpath(\n",
    "            './/span[@class=\"equipment-airline-material\"]').text\n",
    "        # Duracion de la escala\n",
    "        if segmento != segmentos[-1]:\n",
    "            duracion_escala = segmento.find_element_by_xpath(\n",
    "                './/div[@class=\"stop connection\"]//p[@class=\"stop-wait-time\"]//time').get_attribute('datetime')\n",
    "        else:\n",
    "            duracion_escala = ''\n",
    "\n",
    "        # Armo un diccionario para almacenar los datos\n",
    "        data_dict={'origen': origen, \n",
    "                    'dep_time': dep_time, \n",
    "                    'destino': destino,\n",
    "                    'arr_time': arr_time,\n",
    "                    'duracion_vuelo': duracion_vuelo,\n",
    "                    'numero_vuelo': numero_vuelo,\n",
    "                    'modelo_avion': modelo_avion,\n",
    "                    'duracion_escala': duracion_escala}\n",
    "        info_escalas.append(data_dict)\n",
    "        \n",
    "    return info_escalas"
   ]
  },
  {
   "cell_type": "code",
   "execution_count": 12,
   "metadata": {},
   "outputs": [],
   "source": [
    "def obtener_tiempos(vuelo):\n",
    "    # Hora de salida\n",
    "    salida = vuelo.find_element_by_xpath('.//div[@class=\"departure\"]/time').get_attribute('datetime')\n",
    "    # Hora de llegada\n",
    "    llegada = vuelo.find_element_by_xpath('.//div[@class=\"arrival\"]/time').get_attribute('datetime')\n",
    "    # Duracion\n",
    "    duracion = vuelo.find_element_by_xpath('.//span[@class=\"duration\"]/time').get_attribute('datetime')\n",
    "    return {'hora_salida': salida, 'hora_llegada': llegada, 'duracion': duracion}"
   ]
  },
  {
   "cell_type": "code",
   "execution_count": 13,
   "metadata": {},
   "outputs": [],
   "source": [
    "def obtener_info(driver):\n",
    "    vuelos = driver.find_elements_by_xpath('//li[@class=\"flight\"]')\n",
    "    print(f'Se encontraron {len(vuelos)} vuelos.')\n",
    "    print('Iniciando scraping...')\n",
    "    info = []\n",
    "    for vuelo in tqdm(vuelos):\n",
    "        # Obtenemos los tiempos generales del vuelo\n",
    "        tiempos = obtener_tiempos(vuelo)\n",
    "        # Clickeamos el botón de escalas para ver los detalles\n",
    "        vuelo.find_element_by_xpath('.//div[@class=\"flight-summary-stops-description\"]//button').click()\n",
    "        escalas = obtener_datos_escalas(vuelo)\n",
    "        # Cerramos el pop-up con los detalles\n",
    "        vuelo.find_element_by_xpath('//div[@class=\"modal-dialog\"]//button[@class=\"close\"]').click()\n",
    "        # Clickeamos el vuelo para ver los precios\n",
    "        vuelo.click()\n",
    "        precios = obtener_precios(vuelo)\n",
    "        info.append({'precios':precios, 'tiempos':tiempos , 'escalas': escalas})\n",
    "    return info"
   ]
  },
  {
   "cell_type": "markdown",
   "metadata": {},
   "source": [
    "Agregamos funcionalidades para que espere a que cargue la página"
   ]
  },
  {
   "cell_type": "code",
   "execution_count": 14,
   "metadata": {},
   "outputs": [],
   "source": [
    "from selenium.webdriver.support.ui import WebDriverWait\n",
    "from selenium.webdriver.support import expected_conditions as EC\n",
    "from selenium.webdriver.common.by import By\n",
    "from selenium.common.exceptions import TimeoutException"
   ]
  },
  {
   "cell_type": "code",
   "execution_count": 15,
   "metadata": {},
   "outputs": [
    {
     "ename": "NoSuchWindowException",
     "evalue": "Message: no such window: target window already closed\nfrom unknown error: web view not found\n  (Session info: chrome=77.0.3865.90)\n",
     "output_type": "error",
     "traceback": [
      "\u001b[0;31m---------------------------------------------------------------------------\u001b[0m",
      "\u001b[0;31mNoSuchWindowException\u001b[0m                     Traceback (most recent call last)",
      "\u001b[0;32m<ipython-input-15-87b706e47e4c>\u001b[0m in \u001b[0;36m<module>\u001b[0;34m\u001b[0m\n\u001b[1;32m      6\u001b[0m \u001b[0mdelay\u001b[0m \u001b[0;34m=\u001b[0m \u001b[0;36m10\u001b[0m\u001b[0;34m\u001b[0m\u001b[0;34m\u001b[0m\u001b[0m\n\u001b[1;32m      7\u001b[0m \u001b[0;32mtry\u001b[0m\u001b[0;34m:\u001b[0m\u001b[0;34m\u001b[0m\u001b[0;34m\u001b[0m\u001b[0m\n\u001b[0;32m----> 8\u001b[0;31m     \u001b[0mmyElem\u001b[0m \u001b[0;34m=\u001b[0m \u001b[0mWebDriverWait\u001b[0m\u001b[0;34m(\u001b[0m\u001b[0mdriver\u001b[0m\u001b[0;34m,\u001b[0m \u001b[0mdelay\u001b[0m\u001b[0;34m)\u001b[0m\u001b[0;34m.\u001b[0m\u001b[0muntil\u001b[0m\u001b[0;34m(\u001b[0m\u001b[0mEC\u001b[0m\u001b[0;34m.\u001b[0m\u001b[0mpresence_of_element_located\u001b[0m\u001b[0;34m(\u001b[0m\u001b[0;34m(\u001b[0m\u001b[0mBy\u001b[0m\u001b[0;34m.\u001b[0m\u001b[0mXPATH\u001b[0m\u001b[0;34m,\u001b[0m \u001b[0;34m'//li[@class=\"flight\"]'\u001b[0m\u001b[0;34m)\u001b[0m\u001b[0;34m)\u001b[0m\u001b[0;34m)\u001b[0m\u001b[0;34m\u001b[0m\u001b[0;34m\u001b[0m\u001b[0m\n\u001b[0m\u001b[1;32m      9\u001b[0m     \u001b[0mprint\u001b[0m\u001b[0;34m(\u001b[0m\u001b[0;34m\"Page is ready!\"\u001b[0m\u001b[0;34m)\u001b[0m\u001b[0;34m\u001b[0m\u001b[0;34m\u001b[0m\u001b[0m\n\u001b[1;32m     10\u001b[0m     \u001b[0minfo\u001b[0m \u001b[0;34m=\u001b[0m \u001b[0mobtener_info\u001b[0m\u001b[0;34m(\u001b[0m\u001b[0mdriver\u001b[0m\u001b[0;34m)\u001b[0m\u001b[0;34m\u001b[0m\u001b[0;34m\u001b[0m\u001b[0m\n",
      "\u001b[0;32m~/VirtualEnvs/platzi/lib/python3.6/site-packages/selenium/webdriver/support/wait.py\u001b[0m in \u001b[0;36muntil\u001b[0;34m(self, method, message)\u001b[0m\n\u001b[1;32m     69\u001b[0m         \u001b[0;32mwhile\u001b[0m \u001b[0;32mTrue\u001b[0m\u001b[0;34m:\u001b[0m\u001b[0;34m\u001b[0m\u001b[0;34m\u001b[0m\u001b[0m\n\u001b[1;32m     70\u001b[0m             \u001b[0;32mtry\u001b[0m\u001b[0;34m:\u001b[0m\u001b[0;34m\u001b[0m\u001b[0;34m\u001b[0m\u001b[0m\n\u001b[0;32m---> 71\u001b[0;31m                 \u001b[0mvalue\u001b[0m \u001b[0;34m=\u001b[0m \u001b[0mmethod\u001b[0m\u001b[0;34m(\u001b[0m\u001b[0mself\u001b[0m\u001b[0;34m.\u001b[0m\u001b[0m_driver\u001b[0m\u001b[0;34m)\u001b[0m\u001b[0;34m\u001b[0m\u001b[0;34m\u001b[0m\u001b[0m\n\u001b[0m\u001b[1;32m     72\u001b[0m                 \u001b[0;32mif\u001b[0m \u001b[0mvalue\u001b[0m\u001b[0;34m:\u001b[0m\u001b[0;34m\u001b[0m\u001b[0;34m\u001b[0m\u001b[0m\n\u001b[1;32m     73\u001b[0m                     \u001b[0;32mreturn\u001b[0m \u001b[0mvalue\u001b[0m\u001b[0;34m\u001b[0m\u001b[0;34m\u001b[0m\u001b[0m\n",
      "\u001b[0;32m~/VirtualEnvs/platzi/lib/python3.6/site-packages/selenium/webdriver/support/expected_conditions.py\u001b[0m in \u001b[0;36m__call__\u001b[0;34m(self, driver)\u001b[0m\n\u001b[1;32m     62\u001b[0m \u001b[0;34m\u001b[0m\u001b[0m\n\u001b[1;32m     63\u001b[0m     \u001b[0;32mdef\u001b[0m \u001b[0m__call__\u001b[0m\u001b[0;34m(\u001b[0m\u001b[0mself\u001b[0m\u001b[0;34m,\u001b[0m \u001b[0mdriver\u001b[0m\u001b[0;34m)\u001b[0m\u001b[0;34m:\u001b[0m\u001b[0;34m\u001b[0m\u001b[0;34m\u001b[0m\u001b[0m\n\u001b[0;32m---> 64\u001b[0;31m         \u001b[0;32mreturn\u001b[0m \u001b[0m_find_element\u001b[0m\u001b[0;34m(\u001b[0m\u001b[0mdriver\u001b[0m\u001b[0;34m,\u001b[0m \u001b[0mself\u001b[0m\u001b[0;34m.\u001b[0m\u001b[0mlocator\u001b[0m\u001b[0;34m)\u001b[0m\u001b[0;34m\u001b[0m\u001b[0;34m\u001b[0m\u001b[0m\n\u001b[0m\u001b[1;32m     65\u001b[0m \u001b[0;34m\u001b[0m\u001b[0m\n\u001b[1;32m     66\u001b[0m \u001b[0;34m\u001b[0m\u001b[0m\n",
      "\u001b[0;32m~/VirtualEnvs/platzi/lib/python3.6/site-packages/selenium/webdriver/support/expected_conditions.py\u001b[0m in \u001b[0;36m_find_element\u001b[0;34m(driver, by)\u001b[0m\n\u001b[1;32m    413\u001b[0m         \u001b[0;32mraise\u001b[0m \u001b[0me\u001b[0m\u001b[0;34m\u001b[0m\u001b[0;34m\u001b[0m\u001b[0m\n\u001b[1;32m    414\u001b[0m     \u001b[0;32mexcept\u001b[0m \u001b[0mWebDriverException\u001b[0m \u001b[0;32mas\u001b[0m \u001b[0me\u001b[0m\u001b[0;34m:\u001b[0m\u001b[0;34m\u001b[0m\u001b[0;34m\u001b[0m\u001b[0m\n\u001b[0;32m--> 415\u001b[0;31m         \u001b[0;32mraise\u001b[0m \u001b[0me\u001b[0m\u001b[0;34m\u001b[0m\u001b[0;34m\u001b[0m\u001b[0m\n\u001b[0m\u001b[1;32m    416\u001b[0m \u001b[0;34m\u001b[0m\u001b[0m\n\u001b[1;32m    417\u001b[0m \u001b[0;34m\u001b[0m\u001b[0m\n",
      "\u001b[0;32m~/VirtualEnvs/platzi/lib/python3.6/site-packages/selenium/webdriver/support/expected_conditions.py\u001b[0m in \u001b[0;36m_find_element\u001b[0;34m(driver, by)\u001b[0m\n\u001b[1;32m    409\u001b[0m     if thrown.\"\"\"\n\u001b[1;32m    410\u001b[0m     \u001b[0;32mtry\u001b[0m\u001b[0;34m:\u001b[0m\u001b[0;34m\u001b[0m\u001b[0;34m\u001b[0m\u001b[0m\n\u001b[0;32m--> 411\u001b[0;31m         \u001b[0;32mreturn\u001b[0m \u001b[0mdriver\u001b[0m\u001b[0;34m.\u001b[0m\u001b[0mfind_element\u001b[0m\u001b[0;34m(\u001b[0m\u001b[0;34m*\u001b[0m\u001b[0mby\u001b[0m\u001b[0;34m)\u001b[0m\u001b[0;34m\u001b[0m\u001b[0;34m\u001b[0m\u001b[0m\n\u001b[0m\u001b[1;32m    412\u001b[0m     \u001b[0;32mexcept\u001b[0m \u001b[0mNoSuchElementException\u001b[0m \u001b[0;32mas\u001b[0m \u001b[0me\u001b[0m\u001b[0;34m:\u001b[0m\u001b[0;34m\u001b[0m\u001b[0;34m\u001b[0m\u001b[0m\n\u001b[1;32m    413\u001b[0m         \u001b[0;32mraise\u001b[0m \u001b[0me\u001b[0m\u001b[0;34m\u001b[0m\u001b[0;34m\u001b[0m\u001b[0m\n",
      "\u001b[0;32m~/VirtualEnvs/platzi/lib/python3.6/site-packages/selenium/webdriver/remote/webdriver.py\u001b[0m in \u001b[0;36mfind_element\u001b[0;34m(self, by, value)\u001b[0m\n\u001b[1;32m    976\u001b[0m         return self.execute(Command.FIND_ELEMENT, {\n\u001b[1;32m    977\u001b[0m             \u001b[0;34m'using'\u001b[0m\u001b[0;34m:\u001b[0m \u001b[0mby\u001b[0m\u001b[0;34m,\u001b[0m\u001b[0;34m\u001b[0m\u001b[0;34m\u001b[0m\u001b[0m\n\u001b[0;32m--> 978\u001b[0;31m             'value': value})['value']\n\u001b[0m\u001b[1;32m    979\u001b[0m \u001b[0;34m\u001b[0m\u001b[0m\n\u001b[1;32m    980\u001b[0m     \u001b[0;32mdef\u001b[0m \u001b[0mfind_elements\u001b[0m\u001b[0;34m(\u001b[0m\u001b[0mself\u001b[0m\u001b[0;34m,\u001b[0m \u001b[0mby\u001b[0m\u001b[0;34m=\u001b[0m\u001b[0mBy\u001b[0m\u001b[0;34m.\u001b[0m\u001b[0mID\u001b[0m\u001b[0;34m,\u001b[0m \u001b[0mvalue\u001b[0m\u001b[0;34m=\u001b[0m\u001b[0;32mNone\u001b[0m\u001b[0;34m)\u001b[0m\u001b[0;34m:\u001b[0m\u001b[0;34m\u001b[0m\u001b[0;34m\u001b[0m\u001b[0m\n",
      "\u001b[0;32m~/VirtualEnvs/platzi/lib/python3.6/site-packages/selenium/webdriver/remote/webdriver.py\u001b[0m in \u001b[0;36mexecute\u001b[0;34m(self, driver_command, params)\u001b[0m\n\u001b[1;32m    319\u001b[0m         \u001b[0mresponse\u001b[0m \u001b[0;34m=\u001b[0m \u001b[0mself\u001b[0m\u001b[0;34m.\u001b[0m\u001b[0mcommand_executor\u001b[0m\u001b[0;34m.\u001b[0m\u001b[0mexecute\u001b[0m\u001b[0;34m(\u001b[0m\u001b[0mdriver_command\u001b[0m\u001b[0;34m,\u001b[0m \u001b[0mparams\u001b[0m\u001b[0;34m)\u001b[0m\u001b[0;34m\u001b[0m\u001b[0;34m\u001b[0m\u001b[0m\n\u001b[1;32m    320\u001b[0m         \u001b[0;32mif\u001b[0m \u001b[0mresponse\u001b[0m\u001b[0;34m:\u001b[0m\u001b[0;34m\u001b[0m\u001b[0;34m\u001b[0m\u001b[0m\n\u001b[0;32m--> 321\u001b[0;31m             \u001b[0mself\u001b[0m\u001b[0;34m.\u001b[0m\u001b[0merror_handler\u001b[0m\u001b[0;34m.\u001b[0m\u001b[0mcheck_response\u001b[0m\u001b[0;34m(\u001b[0m\u001b[0mresponse\u001b[0m\u001b[0;34m)\u001b[0m\u001b[0;34m\u001b[0m\u001b[0;34m\u001b[0m\u001b[0m\n\u001b[0m\u001b[1;32m    322\u001b[0m             response['value'] = self._unwrap_value(\n\u001b[1;32m    323\u001b[0m                 response.get('value', None))\n",
      "\u001b[0;32m~/VirtualEnvs/platzi/lib/python3.6/site-packages/selenium/webdriver/remote/errorhandler.py\u001b[0m in \u001b[0;36mcheck_response\u001b[0;34m(self, response)\u001b[0m\n\u001b[1;32m    240\u001b[0m                 \u001b[0malert_text\u001b[0m \u001b[0;34m=\u001b[0m \u001b[0mvalue\u001b[0m\u001b[0;34m[\u001b[0m\u001b[0;34m'alert'\u001b[0m\u001b[0;34m]\u001b[0m\u001b[0;34m.\u001b[0m\u001b[0mget\u001b[0m\u001b[0;34m(\u001b[0m\u001b[0;34m'text'\u001b[0m\u001b[0;34m)\u001b[0m\u001b[0;34m\u001b[0m\u001b[0;34m\u001b[0m\u001b[0m\n\u001b[1;32m    241\u001b[0m             \u001b[0;32mraise\u001b[0m \u001b[0mexception_class\u001b[0m\u001b[0;34m(\u001b[0m\u001b[0mmessage\u001b[0m\u001b[0;34m,\u001b[0m \u001b[0mscreen\u001b[0m\u001b[0;34m,\u001b[0m \u001b[0mstacktrace\u001b[0m\u001b[0;34m,\u001b[0m \u001b[0malert_text\u001b[0m\u001b[0;34m)\u001b[0m\u001b[0;34m\u001b[0m\u001b[0;34m\u001b[0m\u001b[0m\n\u001b[0;32m--> 242\u001b[0;31m         \u001b[0;32mraise\u001b[0m \u001b[0mexception_class\u001b[0m\u001b[0;34m(\u001b[0m\u001b[0mmessage\u001b[0m\u001b[0;34m,\u001b[0m \u001b[0mscreen\u001b[0m\u001b[0;34m,\u001b[0m \u001b[0mstacktrace\u001b[0m\u001b[0;34m)\u001b[0m\u001b[0;34m\u001b[0m\u001b[0;34m\u001b[0m\u001b[0m\n\u001b[0m\u001b[1;32m    243\u001b[0m \u001b[0;34m\u001b[0m\u001b[0m\n\u001b[1;32m    244\u001b[0m     \u001b[0;32mdef\u001b[0m \u001b[0m_value_or_default\u001b[0m\u001b[0;34m(\u001b[0m\u001b[0mself\u001b[0m\u001b[0;34m,\u001b[0m \u001b[0mobj\u001b[0m\u001b[0;34m,\u001b[0m \u001b[0mkey\u001b[0m\u001b[0;34m,\u001b[0m \u001b[0mdefault\u001b[0m\u001b[0;34m)\u001b[0m\u001b[0;34m:\u001b[0m\u001b[0;34m\u001b[0m\u001b[0;34m\u001b[0m\u001b[0m\n",
      "\u001b[0;31mNoSuchWindowException\u001b[0m: Message: no such window: target window already closed\nfrom unknown error: web view not found\n  (Session info: chrome=77.0.3865.90)\n"
     ]
    }
   ],
   "source": [
    "url='https://www.latam.com/es_ar/apps/personas/booking?fecha1_dia=25&fecha1_anomes=2019-10&fecha2_dia=12&fecha2_anomes=2019-11&from_city2=MAD&to_city2=BUE&auAvailability=1&ida_vuelta=ida_vuelta&vuelos_origen=Buenos%20Aires&from_city1=BUE&vuelos_destino=Madrid&to_city1=MAD&flex=1&vuelos_fecha_salida_ddmmaaaa=25/10/2019&vuelos_fecha_regreso_ddmmaaaa=12/11/2019&cabina=Y&nadults=1&nchildren=0&ninfants=0&cod_promo='\n",
    "options = webdriver.ChromeOptions()\n",
    "options.add_argument('--incognito')\n",
    "driver = webdriver.Chrome(executable_path='../chromedriver', options=options)\n",
    "driver.get(url)\n",
    "delay = 10\n",
    "try:\n",
    "    myElem = WebDriverWait(driver, delay).until(EC.presence_of_element_located((By.XPATH, '//li[@class=\"flight\"]')))\n",
    "    print(\"Page is ready!\")\n",
    "    info = obtener_info(driver)\n",
    "except TimeoutException:\n",
    "    print(\"Loading took too much time!\")\n",
    "driver.close()"
   ]
  },
  {
   "cell_type": "markdown",
   "metadata": {},
   "source": [
    "Ahora debemos ver cómo construir la URL del sitio para hacer consultas"
   ]
  },
  {
   "cell_type": "code",
   "execution_count": null,
   "metadata": {},
   "outputs": [],
   "source": [
    "url = 'https://www.latam.com/es_ar/apps/personas/booking?fecha1_dia=08&fecha1_anomes=2019-10&auAvailability=1&ida_vuelta=ida&vuelos_origen=Buenos%20Aires&from_city1=BUE&vuelos_destino=Madrid&to_city1=MAD&flex=1&vuelos_fecha_salida_ddmmaaaa=08/10/2019&cabina=Y&nadults=1&nchildren=0&ninfants=0&cod_promo='"
   ]
  },
  {
   "cell_type": "code",
   "execution_count": 16,
   "metadata": {},
   "outputs": [],
   "source": [
    "url_base = 'https://www.latam.com/es_ar/apps/personas/booking?' "
   ]
  },
  {
   "cell_type": "code",
   "execution_count": null,
   "metadata": {
    "scrolled": true
   },
   "outputs": [],
   "source": [
    "params = url.strip(url_base).split('&')\n",
    "params"
   ]
  },
  {
   "cell_type": "code",
   "execution_count": 17,
   "metadata": {},
   "outputs": [],
   "source": [
    "import time"
   ]
  },
  {
   "cell_type": "code",
   "execution_count": 21,
   "metadata": {},
   "outputs": [],
   "source": [
    "fecha = '10/12/2019'"
   ]
  },
  {
   "cell_type": "code",
   "execution_count": 22,
   "metadata": {},
   "outputs": [],
   "source": [
    "fecha = time.strptime(fecha, '%d/%m/%Y')"
   ]
  },
  {
   "cell_type": "code",
   "execution_count": 23,
   "metadata": {},
   "outputs": [
    {
     "data": {
      "text/plain": [
       "'10/12/2019'"
      ]
     },
     "execution_count": 23,
     "metadata": {},
     "output_type": "execute_result"
    }
   ],
   "source": [
    "time.strftime('%d/%m/%Y',fecha)"
   ]
  },
  {
   "cell_type": "code",
   "execution_count": 24,
   "metadata": {},
   "outputs": [],
   "source": [
    "def armar_url(url_base, fecha, origen, destino, cabina):\n",
    "    url = url_base\n",
    "    url+=f'&fecha1_dia={fecha.tm_mday}'\n",
    "    url+=f'&fecha1_anomes={fecha.tm_year}-{fecha.tm_mon}'\n",
    "    url+=f'&auAvailability=1'\n",
    "    url+=f'&ida_vuelta=ida'\n",
    "    url+=f'&from_city1={origen}'\n",
    "    url+=f'&to_city1={destino}'\n",
    "    url+=f'&vuelos_fecha_salida_ddmmaaaa={time.strftime(\"%d/%m/%Y\",fecha)}'\n",
    "    url+=f'&cabina={cabina}'\n",
    "    url+=f'&nadults=1'\n",
    "    return url"
   ]
  },
  {
   "cell_type": "code",
   "execution_count": 35,
   "metadata": {},
   "outputs": [
    {
     "data": {
      "text/plain": [
       "'https://www.latam.com/es_ar/apps/personas/booking?&fecha1_dia=10&fecha1_anomes=2019-12&auAvailability=1&ida_vuelta=ida&from_city1=MAD&to_city1=BUE&vuelos_fecha_salida_ddmmaaaa=10/12/2019&cabina=Y&nadults=1'"
      ]
     },
     "execution_count": 35,
     "metadata": {},
     "output_type": "execute_result"
    }
   ],
   "source": [
    "url = armar_url(url_base,fecha, 'MAD', 'BUE', 'Y')\n",
    "url"
   ]
  },
  {
   "cell_type": "code",
   "execution_count": 36,
   "metadata": {},
   "outputs": [],
   "source": [
    "def scrape_latam(urls):\n",
    "    options = webdriver.ChromeOptions()\n",
    "    options.add_argument('--incognito')\n",
    "    driver = webdriver.Chrome(executable_path='../chromedriver', options=options)\n",
    "    delay = 10\n",
    "    # Si es un string único, lo convierto en lista\n",
    "    if type(urls) == str:\n",
    "        urls = [urls]\n",
    "\n",
    "    print(urls)\n",
    "    info = []\n",
    "    for url in urls:\n",
    "        print('Scraping URL:',url)\n",
    "        driver.get(url)\n",
    "        try:\n",
    "            myElem = WebDriverWait(driver, delay).until(EC.presence_of_element_located((By.XPATH, '//li[@class=\"flight\"]')))\n",
    "            print(\"Page is ready!\")\n",
    "            info.append(obtener_info(driver))\n",
    "        except TimeoutException:\n",
    "            print(\"Loading took too much time!\")\n",
    "    driver.close()\n",
    "    return info"
   ]
  },
  {
   "cell_type": "code",
   "execution_count": 37,
   "metadata": {
    "scrolled": false
   },
   "outputs": [
    {
     "name": "stdout",
     "output_type": "stream",
     "text": [
      "['https://www.latam.com/es_ar/apps/personas/booking?&fecha1_dia=10&fecha1_anomes=2019-12&auAvailability=1&ida_vuelta=ida&from_city1=MAD&to_city1=BUE&vuelos_fecha_salida_ddmmaaaa=10/12/2019&cabina=Y&nadults=1']\n",
      "Scraping URL: https://www.latam.com/es_ar/apps/personas/booking?&fecha1_dia=10&fecha1_anomes=2019-12&auAvailability=1&ida_vuelta=ida&from_city1=MAD&to_city1=BUE&vuelos_fecha_salida_ddmmaaaa=10/12/2019&cabina=Y&nadults=1\n"
     ]
    },
    {
     "name": "stderr",
     "output_type": "stream",
     "text": [
      "\r",
      "  0%|          | 0/14 [00:00<?, ?it/s]"
     ]
    },
    {
     "name": "stdout",
     "output_type": "stream",
     "text": [
      "Page is ready!\n",
      "Se encontraron 14 vuelos.\n",
      "Iniciando scraping...\n"
     ]
    },
    {
     "name": "stderr",
     "output_type": "stream",
     "text": [
      "100%|██████████| 14/14 [00:22<00:00,  1.61s/it]\n"
     ]
    },
    {
     "data": {
      "text/plain": [
       "[[{'precios': [{'PLUS': {'moneda': 'US$', 'valor': '1589,10'}},\n",
       "    {'TOP': {'moneda': 'US$', 'valor': '1754,10'}}],\n",
       "   'tiempos': {'hora_salida': '22:15',\n",
       "    'hora_llegada': '09:10',\n",
       "    'duracion': 'PT14H55M'},\n",
       "   'escalas': [{'origen': 'MAD',\n",
       "     'dep_time': '22:15',\n",
       "     'destino': 'GRU',\n",
       "     'arr_time': '05:00',\n",
       "     'duracion_vuelo': 'PT10H45M',\n",
       "     'numero_vuelo': 'LA8065',\n",
       "     'modelo_avion': 'Airbus 350-900',\n",
       "     'duracion_escala': 'PT1H10M'},\n",
       "    {'origen': 'GRU',\n",
       "     'dep_time': '06:10',\n",
       "     'destino': 'EZE',\n",
       "     'arr_time': '09:10',\n",
       "     'duracion_vuelo': 'PT3H',\n",
       "     'numero_vuelo': 'LA8012',\n",
       "     'modelo_avion': 'Airbus 320-200',\n",
       "     'duracion_escala': ''}]},\n",
       "  {'precios': [{'PLUS': {'moneda': 'US$', 'valor': '1589,10'}},\n",
       "    {'TOP': {'moneda': 'US$', 'valor': '1754,10'}}],\n",
       "   'tiempos': {'hora_salida': '22:15',\n",
       "    'hora_llegada': '10:15',\n",
       "    'duracion': 'PT16H'},\n",
       "   'escalas': [{'origen': 'MAD',\n",
       "     'dep_time': '22:15',\n",
       "     'destino': 'GRU',\n",
       "     'arr_time': '05:00',\n",
       "     'duracion_vuelo': 'PT10H45M',\n",
       "     'numero_vuelo': 'LA8065',\n",
       "     'modelo_avion': 'Airbus 350-900',\n",
       "     'duracion_escala': 'PT2H10M'},\n",
       "    {'origen': 'GRU',\n",
       "     'dep_time': '07:10',\n",
       "     'destino': 'EZE',\n",
       "     'arr_time': '10:15',\n",
       "     'duracion_vuelo': 'PT3H5M',\n",
       "     'numero_vuelo': 'LA8008',\n",
       "     'modelo_avion': 'Airbus 321',\n",
       "     'duracion_escala': ''}]},\n",
       "  {'precios': [{'PLUS': {'moneda': 'US$', 'valor': '1589,10'}},\n",
       "    {'TOP': {'moneda': 'US$', 'valor': '1754,10'}}],\n",
       "   'tiempos': {'hora_salida': '00:40',\n",
       "    'hora_llegada': '14:25',\n",
       "    'duracion': 'PT17H45M'},\n",
       "   'escalas': [{'origen': 'MAD',\n",
       "     'dep_time': '00:40',\n",
       "     'destino': 'LIM',\n",
       "     'arr_time': '06:30',\n",
       "     'duracion_vuelo': 'PT11H50M',\n",
       "     'numero_vuelo': 'LA2485',\n",
       "     'modelo_avion': 'Boeing 787-9',\n",
       "     'duracion_escala': 'PT1H30M'},\n",
       "    {'origen': 'LIM',\n",
       "     'dep_time': '08:00',\n",
       "     'destino': 'EZE',\n",
       "     'arr_time': '14:25',\n",
       "     'duracion_vuelo': 'PT4H25M',\n",
       "     'numero_vuelo': 'LA8011',\n",
       "     'modelo_avion': 'Airbus 320-200',\n",
       "     'duracion_escala': ''}]},\n",
       "  {'precios': [{'PLUS': {'moneda': 'US$', 'valor': '1589,10'}},\n",
       "    {'TOP': {'moneda': 'US$', 'valor': '1754,10'}}],\n",
       "   'tiempos': {'hora_salida': '00:40',\n",
       "    'hora_llegada': '15:51',\n",
       "    'duracion': 'PT19H11M'},\n",
       "   'escalas': [{'origen': 'MAD',\n",
       "     'dep_time': '00:40',\n",
       "     'destino': 'LIM',\n",
       "     'arr_time': '06:30',\n",
       "     'duracion_vuelo': 'PT11H50M',\n",
       "     'numero_vuelo': 'LA2485',\n",
       "     'modelo_avion': 'Boeing 787-9',\n",
       "     'duracion_escala': 'PT2H59M'},\n",
       "    {'origen': 'LIM',\n",
       "     'dep_time': '09:29',\n",
       "     'destino': 'EZE',\n",
       "     'arr_time': '15:51',\n",
       "     'duracion_vuelo': 'PT4H22M',\n",
       "     'numero_vuelo': 'LA7901',\n",
       "     'modelo_avion': 'Airbus 320-200',\n",
       "     'duracion_escala': ''}]},\n",
       "  {'precios': [{'PLUS': {'moneda': 'US$', 'valor': '1589,10'}},\n",
       "    {'TOP': {'moneda': 'US$', 'valor': '1754,10'}}],\n",
       "   'tiempos': {'hora_salida': '22:15',\n",
       "    'hora_llegada': '14:10',\n",
       "    'duracion': 'PT19H55M'},\n",
       "   'escalas': [{'origen': 'MAD',\n",
       "     'dep_time': '22:15',\n",
       "     'destino': 'GRU',\n",
       "     'arr_time': '05:00',\n",
       "     'duracion_vuelo': 'PT10H45M',\n",
       "     'numero_vuelo': 'LA8065',\n",
       "     'modelo_avion': 'Airbus 350-900',\n",
       "     'duracion_escala': 'PT6H10M'},\n",
       "    {'origen': 'GRU',\n",
       "     'dep_time': '11:10',\n",
       "     'destino': 'EZE',\n",
       "     'arr_time': '14:10',\n",
       "     'duracion_vuelo': 'PT3H',\n",
       "     'numero_vuelo': 'LA8003',\n",
       "     'modelo_avion': 'Airbus 320-200',\n",
       "     'duracion_escala': ''}]},\n",
       "  {'precios': [{'PLUS': {'moneda': 'US$', 'valor': '1589,10'}},\n",
       "    {'TOP': {'moneda': 'US$', 'valor': '1754,10'}}],\n",
       "   'tiempos': {'hora_salida': '23:55',\n",
       "    'hora_llegada': '17:00',\n",
       "    'duracion': 'PT21H5M'},\n",
       "   'escalas': [{'origen': 'MAD',\n",
       "     'dep_time': '23:55',\n",
       "     'destino': 'SCL',\n",
       "     'arr_time': '09:30',\n",
       "     'duracion_vuelo': 'PT13H35M',\n",
       "     'numero_vuelo': 'LA705',\n",
       "     'modelo_avion': 'Boeing 787-9',\n",
       "     'duracion_escala': 'PT5H35M'},\n",
       "    {'origen': 'SCL',\n",
       "     'dep_time': '15:05',\n",
       "     'destino': 'EZE',\n",
       "     'arr_time': '17:00',\n",
       "     'duracion_vuelo': 'PT1H55M',\n",
       "     'numero_vuelo': 'LA445',\n",
       "     'modelo_avion': 'Boeing 787-800',\n",
       "     'duracion_escala': ''}]},\n",
       "  {'precios': [{'PLUS': {'moneda': 'US$', 'valor': '1589,10'}},\n",
       "    {'TOP': {'moneda': 'US$', 'valor': '1754,10'}}],\n",
       "   'tiempos': {'hora_salida': '00:40',\n",
       "    'hora_llegada': '18:47',\n",
       "    'duracion': 'PT22H7M'},\n",
       "   'escalas': [{'origen': 'MAD',\n",
       "     'dep_time': '00:40',\n",
       "     'destino': 'LIM',\n",
       "     'arr_time': '06:30',\n",
       "     'duracion_vuelo': 'PT11H50M',\n",
       "     'numero_vuelo': 'LA2485',\n",
       "     'modelo_avion': 'Boeing 787-9',\n",
       "     'duracion_escala': 'PT5H55M'},\n",
       "    {'origen': 'LIM',\n",
       "     'dep_time': '12:25',\n",
       "     'destino': 'EZE',\n",
       "     'arr_time': '18:47',\n",
       "     'duracion_vuelo': 'PT4H22M',\n",
       "     'numero_vuelo': 'LA2429',\n",
       "     'modelo_avion': 'Airbus 320-200',\n",
       "     'duracion_escala': ''}]},\n",
       "  {'precios': [{'PLUS': {'moneda': 'US$', 'valor': '1589,10'}},\n",
       "    {'TOP': {'moneda': 'US$', 'valor': '1754,10'}}],\n",
       "   'tiempos': {'hora_salida': '23:55',\n",
       "    'hora_llegada': '20:13',\n",
       "    'duracion': 'PT24H18M'},\n",
       "   'escalas': [{'origen': 'MAD',\n",
       "     'dep_time': '23:55',\n",
       "     'destino': 'SCL',\n",
       "     'arr_time': '09:30',\n",
       "     'duracion_vuelo': 'PT13H35M',\n",
       "     'numero_vuelo': 'LA705',\n",
       "     'modelo_avion': 'Boeing 787-9',\n",
       "     'duracion_escala': 'PT8H45M'},\n",
       "    {'origen': 'SCL',\n",
       "     'dep_time': '18:15',\n",
       "     'destino': 'EZE',\n",
       "     'arr_time': '20:13',\n",
       "     'duracion_vuelo': 'PT1H58M',\n",
       "     'numero_vuelo': 'LA459',\n",
       "     'modelo_avion': 'Airbus 320-200',\n",
       "     'duracion_escala': ''}]},\n",
       "  {'precios': [{'PLUS': {'moneda': 'US$', 'valor': '1589,10'}},\n",
       "    {'TOP': {'moneda': 'US$', 'valor': '1754,10'}}],\n",
       "   'tiempos': {'hora_salida': '23:55',\n",
       "    'hora_llegada': '22:23',\n",
       "    'duracion': 'PT26H28M'},\n",
       "   'escalas': [{'origen': 'MAD',\n",
       "     'dep_time': '23:55',\n",
       "     'destino': 'SCL',\n",
       "     'arr_time': '09:30',\n",
       "     'duracion_vuelo': 'PT13H35M',\n",
       "     'numero_vuelo': 'LA705',\n",
       "     'modelo_avion': 'Boeing 787-9',\n",
       "     'duracion_escala': 'PT10H55M'},\n",
       "    {'origen': 'SCL',\n",
       "     'dep_time': '20:25',\n",
       "     'destino': 'EZE',\n",
       "     'arr_time': '22:23',\n",
       "     'duracion_vuelo': 'PT1H58M',\n",
       "     'numero_vuelo': 'LA469',\n",
       "     'modelo_avion': 'Airbus 320-200',\n",
       "     'duracion_escala': ''}]},\n",
       "  {'precios': [{'PLUS': {'moneda': 'US$', 'valor': '1589,10'}},\n",
       "    {'TOP': {'moneda': 'US$', 'valor': '1754,10'}}],\n",
       "   'tiempos': {'hora_salida': '22:15',\n",
       "    'hora_llegada': '13:26',\n",
       "    'duracion': 'PT19H11M'},\n",
       "   'escalas': [{'origen': 'MAD',\n",
       "     'dep_time': '22:15',\n",
       "     'destino': 'GRU',\n",
       "     'arr_time': '05:00',\n",
       "     'duracion_vuelo': 'PT10H45M',\n",
       "     'numero_vuelo': 'LA8065',\n",
       "     'modelo_avion': 'Airbus 350-900',\n",
       "     'duracion_escala': 'PT1H50M'},\n",
       "    {'origen': 'GRU',\n",
       "     'dep_time': '06:50',\n",
       "     'destino': 'COR',\n",
       "     'arr_time': '10:15',\n",
       "     'duracion_vuelo': 'PT3H25M',\n",
       "     'numero_vuelo': 'LA8208',\n",
       "     'modelo_avion': 'Boeing 767-300',\n",
       "     'duracion_escala': 'PT1H55M'},\n",
       "    {'origen': 'COR',\n",
       "     'dep_time': '12:10',\n",
       "     'destino': 'AEP',\n",
       "     'arr_time': '13:26',\n",
       "     'duracion_vuelo': 'PT1H16M',\n",
       "     'numero_vuelo': 'LA7605',\n",
       "     'modelo_avion': 'Airbus 320-200',\n",
       "     'duracion_escala': ''}]},\n",
       "  {'precios': [{'PLUS': {'moneda': 'US$', 'valor': '1589,10'}},\n",
       "    {'TOP': {'moneda': 'US$', 'valor': '1754,10'}}],\n",
       "   'tiempos': {'hora_salida': '23:55',\n",
       "    'hora_llegada': '14:10',\n",
       "    'duracion': 'PT18H15M'},\n",
       "   'escalas': [{'origen': 'MAD',\n",
       "     'dep_time': '23:55',\n",
       "     'destino': 'GRU',\n",
       "     'arr_time': '06:55',\n",
       "     'duracion_vuelo': 'PT11H',\n",
       "     'numero_vuelo': 'LA7099',\n",
       "     'modelo_avion': 'A340-600',\n",
       "     'duracion_escala': 'PT4H15M'},\n",
       "    {'origen': 'GRU',\n",
       "     'dep_time': '11:10',\n",
       "     'destino': 'EZE',\n",
       "     'arr_time': '14:10',\n",
       "     'duracion_vuelo': 'PT3H',\n",
       "     'numero_vuelo': 'LA8003',\n",
       "     'modelo_avion': 'Airbus 320-200',\n",
       "     'duracion_escala': ''}]},\n",
       "  {'precios': [{'PLUS': {'moneda': 'US$', 'valor': '1589,10'}},\n",
       "    {'TOP': {'moneda': 'US$', 'valor': '1754,10'}}],\n",
       "   'tiempos': {'hora_salida': '01:00',\n",
       "    'hora_llegada': '15:51',\n",
       "    'duracion': 'PT18H51M'},\n",
       "   'escalas': [{'origen': 'MAD',\n",
       "     'dep_time': '01:00',\n",
       "     'destino': 'LIM',\n",
       "     'arr_time': '07:00',\n",
       "     'duracion_vuelo': 'PT12H',\n",
       "     'numero_vuelo': 'LA5436',\n",
       "     'modelo_avion': 'A340-600',\n",
       "     'duracion_escala': 'PT2H29M'},\n",
       "    {'origen': 'LIM',\n",
       "     'dep_time': '09:29',\n",
       "     'destino': 'EZE',\n",
       "     'arr_time': '15:51',\n",
       "     'duracion_vuelo': 'PT4H22M',\n",
       "     'numero_vuelo': 'LA7901',\n",
       "     'modelo_avion': 'Airbus 320-200',\n",
       "     'duracion_escala': ''}]},\n",
       "  {'precios': [{'PLUS': {'moneda': 'US$', 'valor': '1589,10'}},\n",
       "    {'TOP': {'moneda': 'US$', 'valor': '1754,10'}}],\n",
       "   'tiempos': {'hora_salida': '13:05',\n",
       "    'hora_llegada': '06:35',\n",
       "    'duracion': 'PT21H30M'},\n",
       "   'escalas': [{'origen': 'MAD',\n",
       "     'dep_time': '13:05',\n",
       "     'destino': 'LIM',\n",
       "     'arr_time': '19:05',\n",
       "     'duracion_vuelo': 'PT12H',\n",
       "     'numero_vuelo': 'LA5392',\n",
       "     'modelo_avion': 'A340-600',\n",
       "     'duracion_escala': 'PT5H5M'},\n",
       "    {'origen': 'LIM',\n",
       "     'dep_time': '00:10',\n",
       "     'destino': 'EZE',\n",
       "     'arr_time': '06:35',\n",
       "     'duracion_vuelo': 'PT4H25M',\n",
       "     'numero_vuelo': 'LA2467',\n",
       "     'modelo_avion': 'Boeing 767-300',\n",
       "     'duracion_escala': ''}]},\n",
       "  {'precios': [{'PLUS': {'moneda': 'US$', 'valor': '1589,10'}},\n",
       "    {'TOP': {'moneda': 'US$', 'valor': '1754,10'}}],\n",
       "   'tiempos': {'hora_salida': '01:00',\n",
       "    'hora_llegada': '18:47',\n",
       "    'duracion': 'PT21H47M'},\n",
       "   'escalas': [{'origen': 'MAD',\n",
       "     'dep_time': '01:00',\n",
       "     'destino': 'LIM',\n",
       "     'arr_time': '07:00',\n",
       "     'duracion_vuelo': 'PT12H',\n",
       "     'numero_vuelo': 'LA5436',\n",
       "     'modelo_avion': 'A340-600',\n",
       "     'duracion_escala': 'PT5H25M'},\n",
       "    {'origen': 'LIM',\n",
       "     'dep_time': '12:25',\n",
       "     'destino': 'EZE',\n",
       "     'arr_time': '18:47',\n",
       "     'duracion_vuelo': 'PT4H22M',\n",
       "     'numero_vuelo': 'LA2429',\n",
       "     'modelo_avion': 'Airbus 320-200',\n",
       "     'duracion_escala': ''}]}]]"
      ]
     },
     "execution_count": 37,
     "metadata": {},
     "output_type": "execute_result"
    }
   ],
   "source": [
    "scrape_latam(url)"
   ]
  },
  {
   "cell_type": "code",
   "execution_count": null,
   "metadata": {},
   "outputs": [],
   "source": []
  }
 ],
 "metadata": {
  "kernelspec": {
   "display_name": "platzi",
   "language": "python",
   "name": "platzi"
  },
  "language_info": {
   "codemirror_mode": {
    "name": "ipython",
    "version": 3
   },
   "file_extension": ".py",
   "mimetype": "text/x-python",
   "name": "python",
   "nbconvert_exporter": "python",
   "pygments_lexer": "ipython3",
   "version": "3.6.8"
  }
 },
 "nbformat": 4,
 "nbformat_minor": 2
}
